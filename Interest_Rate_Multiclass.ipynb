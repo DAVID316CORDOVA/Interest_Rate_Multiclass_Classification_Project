{
 "cells": [
  {
   "cell_type": "code",
   "execution_count": 1,
   "id": "9c60264f",
   "metadata": {},
   "outputs": [],
   "source": [
    "#Importing the libraries\n",
    "import pandas as pd\n",
    "import matplotlib.pyplot as plt\n",
    "import seaborn as sns\n",
    "import six\n",
    "import sys\n",
    "sys.modules['sklearn.externals.six'] = six\n",
    "import warnings\n",
    "warnings.filterwarnings(action=\"ignore\",category=FutureWarning)"
   ]
  },
  {
   "cell_type": "code",
   "execution_count": 2,
   "id": "cf6f759c",
   "metadata": {},
   "outputs": [],
   "source": [
    "pd.options.display.float_format=\"{:,.3f}\".format"
   ]
  },
  {
   "cell_type": "code",
   "execution_count": 3,
   "id": "3b70fe0e",
   "metadata": {},
   "outputs": [
    {
     "data": {
      "text/html": [
       "<div>\n",
       "<style scoped>\n",
       "    .dataframe tbody tr th:only-of-type {\n",
       "        vertical-align: middle;\n",
       "    }\n",
       "\n",
       "    .dataframe tbody tr th {\n",
       "        vertical-align: top;\n",
       "    }\n",
       "\n",
       "    .dataframe thead th {\n",
       "        text-align: right;\n",
       "    }\n",
       "</style>\n",
       "<table border=\"1\" class=\"dataframe\">\n",
       "  <thead>\n",
       "    <tr style=\"text-align: right;\">\n",
       "      <th></th>\n",
       "      <th>Unnamed: 0</th>\n",
       "      <th>Loan_ID</th>\n",
       "      <th>Loan_Amount_Requested</th>\n",
       "      <th>Length_Employed</th>\n",
       "      <th>Home_Owner</th>\n",
       "      <th>Annual_Income</th>\n",
       "      <th>Income_Verified</th>\n",
       "      <th>Purpose_Of_Loan</th>\n",
       "      <th>Debt_To_Income</th>\n",
       "      <th>Inquiries_Last_6Mo</th>\n",
       "      <th>Months_Since_Deliquency</th>\n",
       "      <th>Number_Open_Accounts</th>\n",
       "      <th>Total_Accounts</th>\n",
       "      <th>Gender</th>\n",
       "      <th>Interest_Rate</th>\n",
       "    </tr>\n",
       "  </thead>\n",
       "  <tbody>\n",
       "    <tr>\n",
       "      <th>0</th>\n",
       "      <td>0</td>\n",
       "      <td>10000001</td>\n",
       "      <td>7000</td>\n",
       "      <td>&lt; 1 year</td>\n",
       "      <td>Rent</td>\n",
       "      <td>68,000.000</td>\n",
       "      <td>not verified</td>\n",
       "      <td>car</td>\n",
       "      <td>18.370</td>\n",
       "      <td>0</td>\n",
       "      <td>NaN</td>\n",
       "      <td>9</td>\n",
       "      <td>14</td>\n",
       "      <td>Female</td>\n",
       "      <td>1</td>\n",
       "    </tr>\n",
       "    <tr>\n",
       "      <th>1</th>\n",
       "      <td>1</td>\n",
       "      <td>10000002</td>\n",
       "      <td>30000</td>\n",
       "      <td>4 years</td>\n",
       "      <td>Mortgage</td>\n",
       "      <td>NaN</td>\n",
       "      <td>VERIFIED - income</td>\n",
       "      <td>debt_consolidation</td>\n",
       "      <td>14.930</td>\n",
       "      <td>0</td>\n",
       "      <td>17.000</td>\n",
       "      <td>12</td>\n",
       "      <td>24</td>\n",
       "      <td>Female</td>\n",
       "      <td>3</td>\n",
       "    </tr>\n",
       "    <tr>\n",
       "      <th>2</th>\n",
       "      <td>2</td>\n",
       "      <td>10000003</td>\n",
       "      <td>24725</td>\n",
       "      <td>7 years</td>\n",
       "      <td>Mortgage</td>\n",
       "      <td>75,566.400</td>\n",
       "      <td>VERIFIED - income source</td>\n",
       "      <td>debt_consolidation</td>\n",
       "      <td>15.880</td>\n",
       "      <td>0</td>\n",
       "      <td>NaN</td>\n",
       "      <td>12</td>\n",
       "      <td>16</td>\n",
       "      <td>Male</td>\n",
       "      <td>3</td>\n",
       "    </tr>\n",
       "    <tr>\n",
       "      <th>3</th>\n",
       "      <td>3</td>\n",
       "      <td>10000004</td>\n",
       "      <td>16000</td>\n",
       "      <td>&lt; 1 year</td>\n",
       "      <td>NaN</td>\n",
       "      <td>56,160.000</td>\n",
       "      <td>VERIFIED - income source</td>\n",
       "      <td>debt_consolidation</td>\n",
       "      <td>14.340</td>\n",
       "      <td>3</td>\n",
       "      <td>NaN</td>\n",
       "      <td>16</td>\n",
       "      <td>22</td>\n",
       "      <td>Male</td>\n",
       "      <td>3</td>\n",
       "    </tr>\n",
       "    <tr>\n",
       "      <th>4</th>\n",
       "      <td>4</td>\n",
       "      <td>10000005</td>\n",
       "      <td>17000</td>\n",
       "      <td>8 years</td>\n",
       "      <td>Own</td>\n",
       "      <td>96,000.000</td>\n",
       "      <td>VERIFIED - income source</td>\n",
       "      <td>debt_consolidation</td>\n",
       "      <td>22.170</td>\n",
       "      <td>1</td>\n",
       "      <td>NaN</td>\n",
       "      <td>19</td>\n",
       "      <td>30</td>\n",
       "      <td>Female</td>\n",
       "      <td>1</td>\n",
       "    </tr>\n",
       "  </tbody>\n",
       "</table>\n",
       "</div>"
      ],
      "text/plain": [
       "   Unnamed: 0   Loan_ID  Loan_Amount_Requested Length_Employed Home_Owner  \\\n",
       "0           0  10000001                   7000        < 1 year       Rent   \n",
       "1           1  10000002                  30000         4 years   Mortgage   \n",
       "2           2  10000003                  24725         7 years   Mortgage   \n",
       "3           3  10000004                  16000        < 1 year        NaN   \n",
       "4           4  10000005                  17000         8 years        Own   \n",
       "\n",
       "   Annual_Income           Income_Verified     Purpose_Of_Loan  \\\n",
       "0     68,000.000              not verified                 car   \n",
       "1            NaN         VERIFIED - income  debt_consolidation   \n",
       "2     75,566.400  VERIFIED - income source  debt_consolidation   \n",
       "3     56,160.000  VERIFIED - income source  debt_consolidation   \n",
       "4     96,000.000  VERIFIED - income source  debt_consolidation   \n",
       "\n",
       "   Debt_To_Income  Inquiries_Last_6Mo  Months_Since_Deliquency  \\\n",
       "0          18.370                   0                      NaN   \n",
       "1          14.930                   0                   17.000   \n",
       "2          15.880                   0                      NaN   \n",
       "3          14.340                   3                      NaN   \n",
       "4          22.170                   1                      NaN   \n",
       "\n",
       "   Number_Open_Accounts  Total_Accounts  Gender  Interest_Rate  \n",
       "0                     9              14  Female              1  \n",
       "1                    12              24  Female              3  \n",
       "2                    12              16    Male              3  \n",
       "3                    16              22    Male              3  \n",
       "4                    19              30  Female              1  "
      ]
     },
     "execution_count": 3,
     "metadata": {},
     "output_type": "execute_result"
    }
   ],
   "source": [
    "df=pd.read_excel(\"Interest_Rate.xlsx\")\n",
    "df.head()"
   ]
  },
  {
   "cell_type": "code",
   "execution_count": 4,
   "id": "d0926b3a",
   "metadata": {},
   "outputs": [
    {
     "name": "stdout",
     "output_type": "stream",
     "text": [
      "<class 'pandas.core.frame.DataFrame'>\n",
      "RangeIndex: 164309 entries, 0 to 164308\n",
      "Data columns (total 15 columns):\n",
      " #   Column                   Non-Null Count   Dtype  \n",
      "---  ------                   --------------   -----  \n",
      " 0   Unnamed: 0               164309 non-null  int64  \n",
      " 1   Loan_ID                  164309 non-null  int64  \n",
      " 2   Loan_Amount_Requested    164309 non-null  int64  \n",
      " 3   Length_Employed          156938 non-null  object \n",
      " 4   Home_Owner               138960 non-null  object \n",
      " 5   Annual_Income            139207 non-null  float64\n",
      " 6   Income_Verified          164309 non-null  object \n",
      " 7   Purpose_Of_Loan          164309 non-null  object \n",
      " 8   Debt_To_Income           164309 non-null  float64\n",
      " 9   Inquiries_Last_6Mo       164309 non-null  int64  \n",
      " 10  Months_Since_Deliquency  75930 non-null   float64\n",
      " 11  Number_Open_Accounts     164309 non-null  int64  \n",
      " 12  Total_Accounts           164309 non-null  int64  \n",
      " 13  Gender                   164309 non-null  object \n",
      " 14  Interest_Rate            164309 non-null  int64  \n",
      "dtypes: float64(3), int64(7), object(5)\n",
      "memory usage: 18.8+ MB\n"
     ]
    }
   ],
   "source": [
    "df.info()"
   ]
  },
  {
   "cell_type": "code",
   "execution_count": 5,
   "id": "e54c9bb7",
   "metadata": {},
   "outputs": [
    {
     "data": {
      "text/html": [
       "<div>\n",
       "<style scoped>\n",
       "    .dataframe tbody tr th:only-of-type {\n",
       "        vertical-align: middle;\n",
       "    }\n",
       "\n",
       "    .dataframe tbody tr th {\n",
       "        vertical-align: top;\n",
       "    }\n",
       "\n",
       "    .dataframe thead th {\n",
       "        text-align: right;\n",
       "    }\n",
       "</style>\n",
       "<table border=\"1\" class=\"dataframe\">\n",
       "  <thead>\n",
       "    <tr style=\"text-align: right;\">\n",
       "      <th></th>\n",
       "      <th>Loan_Amount_Requested</th>\n",
       "      <th>Length_Employed</th>\n",
       "      <th>Home_Owner</th>\n",
       "      <th>Annual_Income</th>\n",
       "      <th>Income_Verified</th>\n",
       "      <th>Purpose_Of_Loan</th>\n",
       "      <th>Debt_To_Income</th>\n",
       "      <th>Inquiries_Last_6Mo</th>\n",
       "      <th>Months_Since_Deliquency</th>\n",
       "      <th>Number_Open_Accounts</th>\n",
       "      <th>Total_Accounts</th>\n",
       "      <th>Gender</th>\n",
       "      <th>Interest_Rate</th>\n",
       "    </tr>\n",
       "  </thead>\n",
       "  <tbody>\n",
       "    <tr>\n",
       "      <th>0</th>\n",
       "      <td>7000</td>\n",
       "      <td>&lt; 1 year</td>\n",
       "      <td>Rent</td>\n",
       "      <td>68,000.000</td>\n",
       "      <td>not verified</td>\n",
       "      <td>car</td>\n",
       "      <td>18.370</td>\n",
       "      <td>0</td>\n",
       "      <td>NaN</td>\n",
       "      <td>9</td>\n",
       "      <td>14</td>\n",
       "      <td>Female</td>\n",
       "      <td>1</td>\n",
       "    </tr>\n",
       "    <tr>\n",
       "      <th>1</th>\n",
       "      <td>30000</td>\n",
       "      <td>4 years</td>\n",
       "      <td>Mortgage</td>\n",
       "      <td>NaN</td>\n",
       "      <td>VERIFIED - income</td>\n",
       "      <td>debt_consolidation</td>\n",
       "      <td>14.930</td>\n",
       "      <td>0</td>\n",
       "      <td>17.000</td>\n",
       "      <td>12</td>\n",
       "      <td>24</td>\n",
       "      <td>Female</td>\n",
       "      <td>3</td>\n",
       "    </tr>\n",
       "    <tr>\n",
       "      <th>2</th>\n",
       "      <td>24725</td>\n",
       "      <td>7 years</td>\n",
       "      <td>Mortgage</td>\n",
       "      <td>75,566.400</td>\n",
       "      <td>VERIFIED - income source</td>\n",
       "      <td>debt_consolidation</td>\n",
       "      <td>15.880</td>\n",
       "      <td>0</td>\n",
       "      <td>NaN</td>\n",
       "      <td>12</td>\n",
       "      <td>16</td>\n",
       "      <td>Male</td>\n",
       "      <td>3</td>\n",
       "    </tr>\n",
       "    <tr>\n",
       "      <th>3</th>\n",
       "      <td>16000</td>\n",
       "      <td>&lt; 1 year</td>\n",
       "      <td>NaN</td>\n",
       "      <td>56,160.000</td>\n",
       "      <td>VERIFIED - income source</td>\n",
       "      <td>debt_consolidation</td>\n",
       "      <td>14.340</td>\n",
       "      <td>3</td>\n",
       "      <td>NaN</td>\n",
       "      <td>16</td>\n",
       "      <td>22</td>\n",
       "      <td>Male</td>\n",
       "      <td>3</td>\n",
       "    </tr>\n",
       "    <tr>\n",
       "      <th>4</th>\n",
       "      <td>17000</td>\n",
       "      <td>8 years</td>\n",
       "      <td>Own</td>\n",
       "      <td>96,000.000</td>\n",
       "      <td>VERIFIED - income source</td>\n",
       "      <td>debt_consolidation</td>\n",
       "      <td>22.170</td>\n",
       "      <td>1</td>\n",
       "      <td>NaN</td>\n",
       "      <td>19</td>\n",
       "      <td>30</td>\n",
       "      <td>Female</td>\n",
       "      <td>1</td>\n",
       "    </tr>\n",
       "  </tbody>\n",
       "</table>\n",
       "</div>"
      ],
      "text/plain": [
       "   Loan_Amount_Requested Length_Employed Home_Owner  Annual_Income  \\\n",
       "0                   7000        < 1 year       Rent     68,000.000   \n",
       "1                  30000         4 years   Mortgage            NaN   \n",
       "2                  24725         7 years   Mortgage     75,566.400   \n",
       "3                  16000        < 1 year        NaN     56,160.000   \n",
       "4                  17000         8 years        Own     96,000.000   \n",
       "\n",
       "            Income_Verified     Purpose_Of_Loan  Debt_To_Income  \\\n",
       "0              not verified                 car          18.370   \n",
       "1         VERIFIED - income  debt_consolidation          14.930   \n",
       "2  VERIFIED - income source  debt_consolidation          15.880   \n",
       "3  VERIFIED - income source  debt_consolidation          14.340   \n",
       "4  VERIFIED - income source  debt_consolidation          22.170   \n",
       "\n",
       "   Inquiries_Last_6Mo  Months_Since_Deliquency  Number_Open_Accounts  \\\n",
       "0                   0                      NaN                     9   \n",
       "1                   0                   17.000                    12   \n",
       "2                   0                      NaN                    12   \n",
       "3                   3                      NaN                    16   \n",
       "4                   1                      NaN                    19   \n",
       "\n",
       "   Total_Accounts  Gender  Interest_Rate  \n",
       "0              14  Female              1  \n",
       "1              24  Female              3  \n",
       "2              16    Male              3  \n",
       "3              22    Male              3  \n",
       "4              30  Female              1  "
      ]
     },
     "execution_count": 5,
     "metadata": {},
     "output_type": "execute_result"
    }
   ],
   "source": [
    "df=df.drop(columns=[\"Unnamed: 0\",\"Loan_ID\"])\n",
    "df.head()"
   ]
  },
  {
   "cell_type": "code",
   "execution_count": 6,
   "id": "b57ab0ab",
   "metadata": {},
   "outputs": [
    {
     "name": "stdout",
     "output_type": "stream",
     "text": [
      "<class 'pandas.core.frame.DataFrame'>\n",
      "RangeIndex: 164309 entries, 0 to 164308\n",
      "Data columns (total 13 columns):\n",
      " #   Column                   Non-Null Count   Dtype  \n",
      "---  ------                   --------------   -----  \n",
      " 0   Loan_Amount_Requested    164309 non-null  int64  \n",
      " 1   Length_Employed          156938 non-null  object \n",
      " 2   Home_Owner               138960 non-null  object \n",
      " 3   Annual_Income            139207 non-null  float64\n",
      " 4   Income_Verified          164309 non-null  object \n",
      " 5   Purpose_Of_Loan          164309 non-null  object \n",
      " 6   Debt_To_Income           164309 non-null  float64\n",
      " 7   Inquiries_Last_6Mo       164309 non-null  int64  \n",
      " 8   Months_Since_Deliquency  75930 non-null   float64\n",
      " 9   Number_Open_Accounts     164309 non-null  int64  \n",
      " 10  Total_Accounts           164309 non-null  int64  \n",
      " 11  Gender                   164309 non-null  object \n",
      " 12  Interest_Rate            164309 non-null  int64  \n",
      "dtypes: float64(3), int64(5), object(5)\n",
      "memory usage: 16.3+ MB\n"
     ]
    }
   ],
   "source": [
    "df.info()"
   ]
  },
  {
   "cell_type": "code",
   "execution_count": 7,
   "id": "60f0101f",
   "metadata": {},
   "outputs": [
    {
     "data": {
      "text/html": [
       "<div>\n",
       "<style scoped>\n",
       "    .dataframe tbody tr th:only-of-type {\n",
       "        vertical-align: middle;\n",
       "    }\n",
       "\n",
       "    .dataframe tbody tr th {\n",
       "        vertical-align: top;\n",
       "    }\n",
       "\n",
       "    .dataframe thead th {\n",
       "        text-align: right;\n",
       "    }\n",
       "</style>\n",
       "<table border=\"1\" class=\"dataframe\">\n",
       "  <thead>\n",
       "    <tr style=\"text-align: right;\">\n",
       "      <th></th>\n",
       "      <th>count</th>\n",
       "      <th>mean</th>\n",
       "      <th>std</th>\n",
       "      <th>min</th>\n",
       "      <th>25%</th>\n",
       "      <th>50%</th>\n",
       "      <th>75%</th>\n",
       "      <th>max</th>\n",
       "    </tr>\n",
       "  </thead>\n",
       "  <tbody>\n",
       "    <tr>\n",
       "      <th>Loan_Amount_Requested</th>\n",
       "      <td>164,309.000</td>\n",
       "      <td>14,349.337</td>\n",
       "      <td>8,281.869</td>\n",
       "      <td>500.000</td>\n",
       "      <td>8,000.000</td>\n",
       "      <td>12,075.000</td>\n",
       "      <td>20,000.000</td>\n",
       "      <td>35,000.000</td>\n",
       "    </tr>\n",
       "    <tr>\n",
       "      <th>Annual_Income</th>\n",
       "      <td>139,207.000</td>\n",
       "      <td>73,331.159</td>\n",
       "      <td>60,377.498</td>\n",
       "      <td>4,000.000</td>\n",
       "      <td>45,000.000</td>\n",
       "      <td>63,000.000</td>\n",
       "      <td>88,697.500</td>\n",
       "      <td>7,500,000.000</td>\n",
       "    </tr>\n",
       "    <tr>\n",
       "      <th>Debt_To_Income</th>\n",
       "      <td>164,309.000</td>\n",
       "      <td>17.207</td>\n",
       "      <td>7.845</td>\n",
       "      <td>0.000</td>\n",
       "      <td>11.370</td>\n",
       "      <td>16.840</td>\n",
       "      <td>22.780</td>\n",
       "      <td>39.990</td>\n",
       "    </tr>\n",
       "    <tr>\n",
       "      <th>Inquiries_Last_6Mo</th>\n",
       "      <td>164,309.000</td>\n",
       "      <td>0.782</td>\n",
       "      <td>1.035</td>\n",
       "      <td>0.000</td>\n",
       "      <td>0.000</td>\n",
       "      <td>0.000</td>\n",
       "      <td>1.000</td>\n",
       "      <td>8.000</td>\n",
       "    </tr>\n",
       "    <tr>\n",
       "      <th>Months_Since_Deliquency</th>\n",
       "      <td>75,930.000</td>\n",
       "      <td>34.229</td>\n",
       "      <td>21.761</td>\n",
       "      <td>0.000</td>\n",
       "      <td>16.000</td>\n",
       "      <td>31.000</td>\n",
       "      <td>50.000</td>\n",
       "      <td>180.000</td>\n",
       "    </tr>\n",
       "    <tr>\n",
       "      <th>Number_Open_Accounts</th>\n",
       "      <td>164,309.000</td>\n",
       "      <td>11.194</td>\n",
       "      <td>4.992</td>\n",
       "      <td>0.000</td>\n",
       "      <td>8.000</td>\n",
       "      <td>10.000</td>\n",
       "      <td>14.000</td>\n",
       "      <td>76.000</td>\n",
       "    </tr>\n",
       "    <tr>\n",
       "      <th>Total_Accounts</th>\n",
       "      <td>164,309.000</td>\n",
       "      <td>25.068</td>\n",
       "      <td>11.583</td>\n",
       "      <td>2.000</td>\n",
       "      <td>17.000</td>\n",
       "      <td>23.000</td>\n",
       "      <td>32.000</td>\n",
       "      <td>156.000</td>\n",
       "    </tr>\n",
       "    <tr>\n",
       "      <th>Interest_Rate</th>\n",
       "      <td>164,309.000</td>\n",
       "      <td>2.159</td>\n",
       "      <td>0.738</td>\n",
       "      <td>1.000</td>\n",
       "      <td>2.000</td>\n",
       "      <td>2.000</td>\n",
       "      <td>3.000</td>\n",
       "      <td>3.000</td>\n",
       "    </tr>\n",
       "  </tbody>\n",
       "</table>\n",
       "</div>"
      ],
      "text/plain": [
       "                              count       mean        std       min  \\\n",
       "Loan_Amount_Requested   164,309.000 14,349.337  8,281.869   500.000   \n",
       "Annual_Income           139,207.000 73,331.159 60,377.498 4,000.000   \n",
       "Debt_To_Income          164,309.000     17.207      7.845     0.000   \n",
       "Inquiries_Last_6Mo      164,309.000      0.782      1.035     0.000   \n",
       "Months_Since_Deliquency  75,930.000     34.229     21.761     0.000   \n",
       "Number_Open_Accounts    164,309.000     11.194      4.992     0.000   \n",
       "Total_Accounts          164,309.000     25.068     11.583     2.000   \n",
       "Interest_Rate           164,309.000      2.159      0.738     1.000   \n",
       "\n",
       "                               25%        50%        75%           max  \n",
       "Loan_Amount_Requested    8,000.000 12,075.000 20,000.000    35,000.000  \n",
       "Annual_Income           45,000.000 63,000.000 88,697.500 7,500,000.000  \n",
       "Debt_To_Income              11.370     16.840     22.780        39.990  \n",
       "Inquiries_Last_6Mo           0.000      0.000      1.000         8.000  \n",
       "Months_Since_Deliquency     16.000     31.000     50.000       180.000  \n",
       "Number_Open_Accounts         8.000     10.000     14.000        76.000  \n",
       "Total_Accounts              17.000     23.000     32.000       156.000  \n",
       "Interest_Rate                2.000      2.000      3.000         3.000  "
      ]
     },
     "execution_count": 7,
     "metadata": {},
     "output_type": "execute_result"
    }
   ],
   "source": [
    "df.describe().T"
   ]
  },
  {
   "cell_type": "code",
   "execution_count": 8,
   "id": "2ca8184f",
   "metadata": {},
   "outputs": [
    {
     "data": {
      "text/plain": [
       "Loan_Amount_Requested      0.000\n",
       "Length_Employed            4.486\n",
       "Home_Owner                15.428\n",
       "Annual_Income             15.277\n",
       "Income_Verified            0.000\n",
       "Purpose_Of_Loan            0.000\n",
       "Debt_To_Income             0.000\n",
       "Inquiries_Last_6Mo         0.000\n",
       "Months_Since_Deliquency   53.788\n",
       "Number_Open_Accounts       0.000\n",
       "Total_Accounts             0.000\n",
       "Gender                     0.000\n",
       "Interest_Rate              0.000\n",
       "dtype: float64"
      ]
     },
     "execution_count": 8,
     "metadata": {},
     "output_type": "execute_result"
    }
   ],
   "source": [
    "#Finding if there is null values\n",
    "(df.isnull().sum()/df.shape[0])*100"
   ]
  },
  {
   "cell_type": "code",
   "execution_count": 9,
   "id": "ea61f341",
   "metadata": {},
   "outputs": [],
   "source": [
    "#Dropping Months_Since_Deliquency because it has a huge percentage of null values\n",
    "df=df.drop(columns=[\"Months_Since_Deliquency\"])"
   ]
  },
  {
   "cell_type": "code",
   "execution_count": 10,
   "id": "02000632",
   "metadata": {},
   "outputs": [
    {
     "data": {
      "text/plain": [
       "Loan_Amount_Requested    0.000\n",
       "Length_Employed          4.486\n",
       "Home_Owner              15.428\n",
       "Annual_Income           15.277\n",
       "Income_Verified          0.000\n",
       "Purpose_Of_Loan          0.000\n",
       "Debt_To_Income           0.000\n",
       "Inquiries_Last_6Mo       0.000\n",
       "Number_Open_Accounts     0.000\n",
       "Total_Accounts           0.000\n",
       "Gender                   0.000\n",
       "Interest_Rate            0.000\n",
       "dtype: float64"
      ]
     },
     "execution_count": 10,
     "metadata": {},
     "output_type": "execute_result"
    }
   ],
   "source": [
    "#Finding is there is null values\n",
    "(df.isnull().sum()/df.shape[0])*100"
   ]
  },
  {
   "cell_type": "code",
   "execution_count": 11,
   "id": "40230a0d",
   "metadata": {},
   "outputs": [
    {
     "data": {
      "text/html": [
       "<div>\n",
       "<style scoped>\n",
       "    .dataframe tbody tr th:only-of-type {\n",
       "        vertical-align: middle;\n",
       "    }\n",
       "\n",
       "    .dataframe tbody tr th {\n",
       "        vertical-align: top;\n",
       "    }\n",
       "\n",
       "    .dataframe thead th {\n",
       "        text-align: right;\n",
       "    }\n",
       "</style>\n",
       "<table border=\"1\" class=\"dataframe\">\n",
       "  <thead>\n",
       "    <tr style=\"text-align: right;\">\n",
       "      <th></th>\n",
       "      <th>Length_Employed</th>\n",
       "      <th>Home_Owner</th>\n",
       "      <th>Annual_Income</th>\n",
       "    </tr>\n",
       "  </thead>\n",
       "  <tbody>\n",
       "    <tr>\n",
       "      <th>0</th>\n",
       "      <td>&lt; 1 year</td>\n",
       "      <td>Rent</td>\n",
       "      <td>68,000.000</td>\n",
       "    </tr>\n",
       "    <tr>\n",
       "      <th>1</th>\n",
       "      <td>4 years</td>\n",
       "      <td>Mortgage</td>\n",
       "      <td>NaN</td>\n",
       "    </tr>\n",
       "    <tr>\n",
       "      <th>2</th>\n",
       "      <td>7 years</td>\n",
       "      <td>Mortgage</td>\n",
       "      <td>75,566.400</td>\n",
       "    </tr>\n",
       "    <tr>\n",
       "      <th>3</th>\n",
       "      <td>&lt; 1 year</td>\n",
       "      <td>NaN</td>\n",
       "      <td>56,160.000</td>\n",
       "    </tr>\n",
       "    <tr>\n",
       "      <th>4</th>\n",
       "      <td>8 years</td>\n",
       "      <td>Own</td>\n",
       "      <td>96,000.000</td>\n",
       "    </tr>\n",
       "    <tr>\n",
       "      <th>...</th>\n",
       "      <td>...</td>\n",
       "      <td>...</td>\n",
       "      <td>...</td>\n",
       "    </tr>\n",
       "    <tr>\n",
       "      <th>164304</th>\n",
       "      <td>10+ years</td>\n",
       "      <td>Rent</td>\n",
       "      <td>NaN</td>\n",
       "    </tr>\n",
       "    <tr>\n",
       "      <th>164305</th>\n",
       "      <td>8 years</td>\n",
       "      <td>Own</td>\n",
       "      <td>NaN</td>\n",
       "    </tr>\n",
       "    <tr>\n",
       "      <th>164306</th>\n",
       "      <td>10+ years</td>\n",
       "      <td>Mortgage</td>\n",
       "      <td>NaN</td>\n",
       "    </tr>\n",
       "    <tr>\n",
       "      <th>164307</th>\n",
       "      <td>4 years</td>\n",
       "      <td>Rent</td>\n",
       "      <td>NaN</td>\n",
       "    </tr>\n",
       "    <tr>\n",
       "      <th>164308</th>\n",
       "      <td>10+ years</td>\n",
       "      <td>Rent</td>\n",
       "      <td>NaN</td>\n",
       "    </tr>\n",
       "  </tbody>\n",
       "</table>\n",
       "<p>164309 rows × 3 columns</p>\n",
       "</div>"
      ],
      "text/plain": [
       "       Length_Employed Home_Owner  Annual_Income\n",
       "0             < 1 year       Rent     68,000.000\n",
       "1              4 years   Mortgage            NaN\n",
       "2              7 years   Mortgage     75,566.400\n",
       "3             < 1 year        NaN     56,160.000\n",
       "4              8 years        Own     96,000.000\n",
       "...                ...        ...            ...\n",
       "164304       10+ years       Rent            NaN\n",
       "164305         8 years        Own            NaN\n",
       "164306       10+ years   Mortgage            NaN\n",
       "164307         4 years       Rent            NaN\n",
       "164308       10+ years       Rent            NaN\n",
       "\n",
       "[164309 rows x 3 columns]"
      ]
     },
     "execution_count": 11,
     "metadata": {},
     "output_type": "execute_result"
    }
   ],
   "source": [
    "#Analyzing the columns with the null values\n",
    "df[[\"Length_Employed\",\"Home_Owner\",\"Annual_Income\"]]"
   ]
  },
  {
   "cell_type": "code",
   "execution_count": 12,
   "id": "debcc8dd",
   "metadata": {},
   "outputs": [
    {
     "data": {
      "text/plain": [
       "Length_Employed     object\n",
       "Home_Owner          object\n",
       "Annual_Income      float64\n",
       "dtype: object"
      ]
     },
     "execution_count": 12,
     "metadata": {},
     "output_type": "execute_result"
    }
   ],
   "source": [
    "df[[\"Length_Employed\",\"Home_Owner\",\"Annual_Income\"]].dtypes"
   ]
  },
  {
   "cell_type": "code",
   "execution_count": 13,
   "id": "a972c93c",
   "metadata": {},
   "outputs": [
    {
     "data": {
      "text/plain": [
       "array(['< 1 year', '4 years', '7 years', '8 years', '2 years',\n",
       "       '10+ years', '1 year', nan, '6 years', '9 years', '3 years',\n",
       "       '5 years'], dtype=object)"
      ]
     },
     "execution_count": 13,
     "metadata": {},
     "output_type": "execute_result"
    }
   ],
   "source": [
    "#Analyzing \"Length_Employed\" column\n",
    "\n",
    "df[\"Length_Employed\"].unique()"
   ]
  },
  {
   "cell_type": "code",
   "execution_count": 14,
   "id": "e0e0063c",
   "metadata": {},
   "outputs": [],
   "source": [
    "#Filling the nan values in the feature \"Length_Employed\" with the most frequent value\n",
    "\n",
    "df[\"Length_Employed\"]=df[\"Length_Employed\"].fillna(df[\"Length_Employed\"].mode()[0])"
   ]
  },
  {
   "cell_type": "code",
   "execution_count": 15,
   "id": "c1c6009a",
   "metadata": {},
   "outputs": [
    {
     "data": {
      "text/plain": [
       "array(['Rent', 'Mortgage', nan, 'Own', 'Other', 'None'], dtype=object)"
      ]
     },
     "execution_count": 15,
     "metadata": {},
     "output_type": "execute_result"
    }
   ],
   "source": [
    "#Analyzing \"Home_Owner\" column\n",
    "\n",
    "df[\"Home_Owner\"].unique()"
   ]
  },
  {
   "cell_type": "code",
   "execution_count": 16,
   "id": "ccf5d39d",
   "metadata": {},
   "outputs": [],
   "source": [
    "#Filling the nan values in the feature \"Home_Owner\" with the most frequent value\n",
    "\n",
    "df[\"Home_Owner\"]=df[\"Home_Owner\"].fillna(df[\"Home_Owner\"].mode()[0])"
   ]
  },
  {
   "cell_type": "code",
   "execution_count": 17,
   "id": "5d14162c",
   "metadata": {},
   "outputs": [],
   "source": [
    "#Filling \"Annual_Income\" column with the mean\n",
    "df[\"Annual_Income\"]=df[\"Annual_Income\"].fillna(df[\"Annual_Income\"].mean())"
   ]
  },
  {
   "cell_type": "code",
   "execution_count": 18,
   "id": "2c4cbbad",
   "metadata": {},
   "outputs": [
    {
     "data": {
      "text/plain": [
       "Loan_Amount_Requested   0.000\n",
       "Length_Employed         0.000\n",
       "Home_Owner              0.000\n",
       "Annual_Income           0.000\n",
       "Income_Verified         0.000\n",
       "Purpose_Of_Loan         0.000\n",
       "Debt_To_Income          0.000\n",
       "Inquiries_Last_6Mo      0.000\n",
       "Number_Open_Accounts    0.000\n",
       "Total_Accounts          0.000\n",
       "Gender                  0.000\n",
       "Interest_Rate           0.000\n",
       "dtype: float64"
      ]
     },
     "execution_count": 18,
     "metadata": {},
     "output_type": "execute_result"
    }
   ],
   "source": [
    "#Finding is there is still null values\n",
    "(df.isnull().sum()/df.shape[0])*100"
   ]
  },
  {
   "cell_type": "code",
   "execution_count": 19,
   "id": "d696b817",
   "metadata": {},
   "outputs": [
    {
     "name": "stdout",
     "output_type": "stream",
     "text": [
      "The feature Length_Employed contains 11  distinct values \n",
      "The feature Home_Owner contains 5  distinct values \n",
      "The feature Income_Verified contains 3  distinct values \n",
      "The feature Purpose_Of_Loan contains 14  distinct values \n",
      "The feature Gender contains 2  distinct values \n"
     ]
    }
   ],
   "source": [
    "#Finding the categorical features and the amount of different values they have\n",
    "\n",
    "categorical=df.select_dtypes(include=\"object\").columns\n",
    "\n",
    "for line in categorical:\n",
    "    print(\"The feature \" + line + \" contains\" ,  str(len(df[line].unique())) ,\" distinct values \")\n",
    "    "
   ]
  },
  {
   "cell_type": "code",
   "execution_count": 20,
   "id": "95b517b3",
   "metadata": {},
   "outputs": [
    {
     "data": {
      "text/html": [
       "<div>\n",
       "<style scoped>\n",
       "    .dataframe tbody tr th:only-of-type {\n",
       "        vertical-align: middle;\n",
       "    }\n",
       "\n",
       "    .dataframe tbody tr th {\n",
       "        vertical-align: top;\n",
       "    }\n",
       "\n",
       "    .dataframe thead th {\n",
       "        text-align: right;\n",
       "    }\n",
       "</style>\n",
       "<table border=\"1\" class=\"dataframe\">\n",
       "  <thead>\n",
       "    <tr style=\"text-align: right;\">\n",
       "      <th></th>\n",
       "      <th>Length_Employed</th>\n",
       "      <th>Home_Owner</th>\n",
       "      <th>Income_Verified</th>\n",
       "      <th>Purpose_Of_Loan</th>\n",
       "      <th>Gender</th>\n",
       "    </tr>\n",
       "  </thead>\n",
       "  <tbody>\n",
       "    <tr>\n",
       "      <th>0</th>\n",
       "      <td>&lt; 1 year</td>\n",
       "      <td>Rent</td>\n",
       "      <td>not verified</td>\n",
       "      <td>car</td>\n",
       "      <td>Female</td>\n",
       "    </tr>\n",
       "    <tr>\n",
       "      <th>1</th>\n",
       "      <td>4 years</td>\n",
       "      <td>Mortgage</td>\n",
       "      <td>VERIFIED - income</td>\n",
       "      <td>debt_consolidation</td>\n",
       "      <td>Female</td>\n",
       "    </tr>\n",
       "    <tr>\n",
       "      <th>2</th>\n",
       "      <td>7 years</td>\n",
       "      <td>Mortgage</td>\n",
       "      <td>VERIFIED - income source</td>\n",
       "      <td>debt_consolidation</td>\n",
       "      <td>Male</td>\n",
       "    </tr>\n",
       "    <tr>\n",
       "      <th>3</th>\n",
       "      <td>&lt; 1 year</td>\n",
       "      <td>Mortgage</td>\n",
       "      <td>VERIFIED - income source</td>\n",
       "      <td>debt_consolidation</td>\n",
       "      <td>Male</td>\n",
       "    </tr>\n",
       "    <tr>\n",
       "      <th>4</th>\n",
       "      <td>8 years</td>\n",
       "      <td>Own</td>\n",
       "      <td>VERIFIED - income source</td>\n",
       "      <td>debt_consolidation</td>\n",
       "      <td>Female</td>\n",
       "    </tr>\n",
       "  </tbody>\n",
       "</table>\n",
       "</div>"
      ],
      "text/plain": [
       "  Length_Employed Home_Owner           Income_Verified     Purpose_Of_Loan  \\\n",
       "0        < 1 year       Rent              not verified                 car   \n",
       "1         4 years   Mortgage         VERIFIED - income  debt_consolidation   \n",
       "2         7 years   Mortgage  VERIFIED - income source  debt_consolidation   \n",
       "3        < 1 year   Mortgage  VERIFIED - income source  debt_consolidation   \n",
       "4         8 years        Own  VERIFIED - income source  debt_consolidation   \n",
       "\n",
       "   Gender  \n",
       "0  Female  \n",
       "1  Female  \n",
       "2    Male  \n",
       "3    Male  \n",
       "4  Female  "
      ]
     },
     "execution_count": 20,
     "metadata": {},
     "output_type": "execute_result"
    }
   ],
   "source": [
    "df[categorical].head()"
   ]
  },
  {
   "cell_type": "code",
   "execution_count": 21,
   "id": "90093595",
   "metadata": {},
   "outputs": [
    {
     "data": {
      "text/html": [
       "<div>\n",
       "<style scoped>\n",
       "    .dataframe tbody tr th:only-of-type {\n",
       "        vertical-align: middle;\n",
       "    }\n",
       "\n",
       "    .dataframe tbody tr th {\n",
       "        vertical-align: top;\n",
       "    }\n",
       "\n",
       "    .dataframe thead th {\n",
       "        text-align: right;\n",
       "    }\n",
       "</style>\n",
       "<table border=\"1\" class=\"dataframe\">\n",
       "  <thead>\n",
       "    <tr style=\"text-align: right;\">\n",
       "      <th></th>\n",
       "      <th>Loan_Amount_Requested</th>\n",
       "      <th>Annual_Income</th>\n",
       "      <th>Debt_To_Income</th>\n",
       "      <th>Inquiries_Last_6Mo</th>\n",
       "      <th>Number_Open_Accounts</th>\n",
       "      <th>Total_Accounts</th>\n",
       "      <th>Interest_Rate</th>\n",
       "      <th>Length_Employed_1 year</th>\n",
       "      <th>Length_Employed_10+ years</th>\n",
       "      <th>Length_Employed_2 years</th>\n",
       "      <th>...</th>\n",
       "      <th>Purpose_Of_Loan_major_purchase</th>\n",
       "      <th>Purpose_Of_Loan_medical</th>\n",
       "      <th>Purpose_Of_Loan_moving</th>\n",
       "      <th>Purpose_Of_Loan_other</th>\n",
       "      <th>Purpose_Of_Loan_renewable_energy</th>\n",
       "      <th>Purpose_Of_Loan_small_business</th>\n",
       "      <th>Purpose_Of_Loan_vacation</th>\n",
       "      <th>Purpose_Of_Loan_wedding</th>\n",
       "      <th>Gender_Female</th>\n",
       "      <th>Gender_Male</th>\n",
       "    </tr>\n",
       "  </thead>\n",
       "  <tbody>\n",
       "    <tr>\n",
       "      <th>0</th>\n",
       "      <td>7000</td>\n",
       "      <td>68,000.000</td>\n",
       "      <td>18.370</td>\n",
       "      <td>0</td>\n",
       "      <td>9</td>\n",
       "      <td>14</td>\n",
       "      <td>1</td>\n",
       "      <td>0</td>\n",
       "      <td>0</td>\n",
       "      <td>0</td>\n",
       "      <td>...</td>\n",
       "      <td>0</td>\n",
       "      <td>0</td>\n",
       "      <td>0</td>\n",
       "      <td>0</td>\n",
       "      <td>0</td>\n",
       "      <td>0</td>\n",
       "      <td>0</td>\n",
       "      <td>0</td>\n",
       "      <td>1</td>\n",
       "      <td>0</td>\n",
       "    </tr>\n",
       "    <tr>\n",
       "      <th>1</th>\n",
       "      <td>30000</td>\n",
       "      <td>73,331.159</td>\n",
       "      <td>14.930</td>\n",
       "      <td>0</td>\n",
       "      <td>12</td>\n",
       "      <td>24</td>\n",
       "      <td>3</td>\n",
       "      <td>0</td>\n",
       "      <td>0</td>\n",
       "      <td>0</td>\n",
       "      <td>...</td>\n",
       "      <td>0</td>\n",
       "      <td>0</td>\n",
       "      <td>0</td>\n",
       "      <td>0</td>\n",
       "      <td>0</td>\n",
       "      <td>0</td>\n",
       "      <td>0</td>\n",
       "      <td>0</td>\n",
       "      <td>1</td>\n",
       "      <td>0</td>\n",
       "    </tr>\n",
       "    <tr>\n",
       "      <th>2</th>\n",
       "      <td>24725</td>\n",
       "      <td>75,566.400</td>\n",
       "      <td>15.880</td>\n",
       "      <td>0</td>\n",
       "      <td>12</td>\n",
       "      <td>16</td>\n",
       "      <td>3</td>\n",
       "      <td>0</td>\n",
       "      <td>0</td>\n",
       "      <td>0</td>\n",
       "      <td>...</td>\n",
       "      <td>0</td>\n",
       "      <td>0</td>\n",
       "      <td>0</td>\n",
       "      <td>0</td>\n",
       "      <td>0</td>\n",
       "      <td>0</td>\n",
       "      <td>0</td>\n",
       "      <td>0</td>\n",
       "      <td>0</td>\n",
       "      <td>1</td>\n",
       "    </tr>\n",
       "    <tr>\n",
       "      <th>3</th>\n",
       "      <td>16000</td>\n",
       "      <td>56,160.000</td>\n",
       "      <td>14.340</td>\n",
       "      <td>3</td>\n",
       "      <td>16</td>\n",
       "      <td>22</td>\n",
       "      <td>3</td>\n",
       "      <td>0</td>\n",
       "      <td>0</td>\n",
       "      <td>0</td>\n",
       "      <td>...</td>\n",
       "      <td>0</td>\n",
       "      <td>0</td>\n",
       "      <td>0</td>\n",
       "      <td>0</td>\n",
       "      <td>0</td>\n",
       "      <td>0</td>\n",
       "      <td>0</td>\n",
       "      <td>0</td>\n",
       "      <td>0</td>\n",
       "      <td>1</td>\n",
       "    </tr>\n",
       "    <tr>\n",
       "      <th>4</th>\n",
       "      <td>17000</td>\n",
       "      <td>96,000.000</td>\n",
       "      <td>22.170</td>\n",
       "      <td>1</td>\n",
       "      <td>19</td>\n",
       "      <td>30</td>\n",
       "      <td>1</td>\n",
       "      <td>0</td>\n",
       "      <td>0</td>\n",
       "      <td>0</td>\n",
       "      <td>...</td>\n",
       "      <td>0</td>\n",
       "      <td>0</td>\n",
       "      <td>0</td>\n",
       "      <td>0</td>\n",
       "      <td>0</td>\n",
       "      <td>0</td>\n",
       "      <td>0</td>\n",
       "      <td>0</td>\n",
       "      <td>1</td>\n",
       "      <td>0</td>\n",
       "    </tr>\n",
       "  </tbody>\n",
       "</table>\n",
       "<p>5 rows × 42 columns</p>\n",
       "</div>"
      ],
      "text/plain": [
       "   Loan_Amount_Requested  Annual_Income  Debt_To_Income  Inquiries_Last_6Mo  \\\n",
       "0                   7000     68,000.000          18.370                   0   \n",
       "1                  30000     73,331.159          14.930                   0   \n",
       "2                  24725     75,566.400          15.880                   0   \n",
       "3                  16000     56,160.000          14.340                   3   \n",
       "4                  17000     96,000.000          22.170                   1   \n",
       "\n",
       "   Number_Open_Accounts  Total_Accounts  Interest_Rate  \\\n",
       "0                     9              14              1   \n",
       "1                    12              24              3   \n",
       "2                    12              16              3   \n",
       "3                    16              22              3   \n",
       "4                    19              30              1   \n",
       "\n",
       "   Length_Employed_1 year  Length_Employed_10+ years  Length_Employed_2 years  \\\n",
       "0                       0                          0                        0   \n",
       "1                       0                          0                        0   \n",
       "2                       0                          0                        0   \n",
       "3                       0                          0                        0   \n",
       "4                       0                          0                        0   \n",
       "\n",
       "   ...  Purpose_Of_Loan_major_purchase  Purpose_Of_Loan_medical  \\\n",
       "0  ...                               0                        0   \n",
       "1  ...                               0                        0   \n",
       "2  ...                               0                        0   \n",
       "3  ...                               0                        0   \n",
       "4  ...                               0                        0   \n",
       "\n",
       "   Purpose_Of_Loan_moving  Purpose_Of_Loan_other  \\\n",
       "0                       0                      0   \n",
       "1                       0                      0   \n",
       "2                       0                      0   \n",
       "3                       0                      0   \n",
       "4                       0                      0   \n",
       "\n",
       "   Purpose_Of_Loan_renewable_energy  Purpose_Of_Loan_small_business  \\\n",
       "0                                 0                               0   \n",
       "1                                 0                               0   \n",
       "2                                 0                               0   \n",
       "3                                 0                               0   \n",
       "4                                 0                               0   \n",
       "\n",
       "   Purpose_Of_Loan_vacation  Purpose_Of_Loan_wedding  Gender_Female  \\\n",
       "0                         0                        0              1   \n",
       "1                         0                        0              1   \n",
       "2                         0                        0              0   \n",
       "3                         0                        0              0   \n",
       "4                         0                        0              1   \n",
       "\n",
       "   Gender_Male  \n",
       "0            0  \n",
       "1            0  \n",
       "2            1  \n",
       "3            1  \n",
       "4            0  \n",
       "\n",
       "[5 rows x 42 columns]"
      ]
     },
     "execution_count": 21,
     "metadata": {},
     "output_type": "execute_result"
    }
   ],
   "source": [
    "#Creating new features with the help of get_dummies\n",
    "new_features=pd.get_dummies(df[categorical])\n",
    "\n",
    "#Joining the new features with the first dataframe\n",
    "df=pd.concat([df,new_features],axis=1)\n",
    "\n",
    "#Dropping the categorical columns due to they were transformed in new columns\n",
    "df=df.drop(columns=categorical)\n",
    "df.head()"
   ]
  },
  {
   "cell_type": "code",
   "execution_count": 22,
   "id": "7db02513",
   "metadata": {},
   "outputs": [
    {
     "data": {
      "text/plain": [
       "(164309, 42)"
      ]
     },
     "execution_count": 22,
     "metadata": {},
     "output_type": "execute_result"
    }
   ],
   "source": [
    "df.shape"
   ]
  },
  {
   "cell_type": "code",
   "execution_count": 23,
   "id": "dfea51d0",
   "metadata": {},
   "outputs": [],
   "source": [
    "#Defining X and y\n",
    "X=df.drop(columns=[\"Interest_Rate\"])\n",
    "y=df[[\"Interest_Rate\"]]"
   ]
  },
  {
   "cell_type": "code",
   "execution_count": 24,
   "id": "2244adae",
   "metadata": {},
   "outputs": [
    {
     "data": {
      "text/plain": [
       "Interest_Rate\n",
       "2               42.956\n",
       "3               36.470\n",
       "1               20.575\n",
       "dtype: float64"
      ]
     },
     "execution_count": 24,
     "metadata": {},
     "output_type": "execute_result"
    }
   ],
   "source": [
    "#Finding the percentage of each class\n",
    "(y.value_counts()/y.shape[0])*100"
   ]
  },
  {
   "cell_type": "code",
   "execution_count": 25,
   "id": "5f7f1517",
   "metadata": {},
   "outputs": [
    {
     "data": {
      "text/plain": [
       "Interest_Rate\n",
       "1               33.333\n",
       "2               33.333\n",
       "3               33.333\n",
       "dtype: float64"
      ]
     },
     "execution_count": 25,
     "metadata": {},
     "output_type": "execute_result"
    }
   ],
   "source": [
    "#Balancing the classes with imblearn\n",
    "from imblearn.over_sampling import SMOTE\n",
    "\n",
    "# Estrategy of undersampling\n",
    "resample = SMOTE(k_neighbors=3)\n",
    "\n",
    "# Fit and apply the transformation\n",
    "X_bal, y_bal = resample.fit_resample(X, y)\n",
    "\n",
    "# Results\n",
    "(y_bal.value_counts()/y_bal.shape[0])*100\n"
   ]
  },
  {
   "cell_type": "code",
   "execution_count": 26,
   "id": "fdd53beb",
   "metadata": {},
   "outputs": [],
   "source": [
    "new_data=pd.concat([X_bal,y_bal],axis=1)\n",
    "new_data.to_csv(\"new_data_generated.csv\",index=False)"
   ]
  },
  {
   "cell_type": "code",
   "execution_count": 3,
   "id": "d38b0517",
   "metadata": {},
   "outputs": [
    {
     "data": {
      "text/html": [
       "<div>\n",
       "<style scoped>\n",
       "    .dataframe tbody tr th:only-of-type {\n",
       "        vertical-align: middle;\n",
       "    }\n",
       "\n",
       "    .dataframe tbody tr th {\n",
       "        vertical-align: top;\n",
       "    }\n",
       "\n",
       "    .dataframe thead th {\n",
       "        text-align: right;\n",
       "    }\n",
       "</style>\n",
       "<table border=\"1\" class=\"dataframe\">\n",
       "  <thead>\n",
       "    <tr style=\"text-align: right;\">\n",
       "      <th></th>\n",
       "      <th>Loan_Amount_Requested</th>\n",
       "      <th>Annual_Income</th>\n",
       "      <th>Debt_To_Income</th>\n",
       "      <th>Inquiries_Last_6Mo</th>\n",
       "      <th>Number_Open_Accounts</th>\n",
       "      <th>Total_Accounts</th>\n",
       "      <th>Length_Employed_1 year</th>\n",
       "      <th>Length_Employed_10+ years</th>\n",
       "      <th>Length_Employed_2 years</th>\n",
       "      <th>Length_Employed_3 years</th>\n",
       "      <th>...</th>\n",
       "      <th>Purpose_Of_Loan_medical</th>\n",
       "      <th>Purpose_Of_Loan_moving</th>\n",
       "      <th>Purpose_Of_Loan_other</th>\n",
       "      <th>Purpose_Of_Loan_renewable_energy</th>\n",
       "      <th>Purpose_Of_Loan_small_business</th>\n",
       "      <th>Purpose_Of_Loan_vacation</th>\n",
       "      <th>Purpose_Of_Loan_wedding</th>\n",
       "      <th>Gender_Female</th>\n",
       "      <th>Gender_Male</th>\n",
       "      <th>Interest_Rate</th>\n",
       "    </tr>\n",
       "  </thead>\n",
       "  <tbody>\n",
       "    <tr>\n",
       "      <th>0</th>\n",
       "      <td>7000</td>\n",
       "      <td>68,000.000</td>\n",
       "      <td>18.370</td>\n",
       "      <td>0</td>\n",
       "      <td>9</td>\n",
       "      <td>14</td>\n",
       "      <td>0</td>\n",
       "      <td>0</td>\n",
       "      <td>0</td>\n",
       "      <td>0</td>\n",
       "      <td>...</td>\n",
       "      <td>0</td>\n",
       "      <td>0</td>\n",
       "      <td>0</td>\n",
       "      <td>0</td>\n",
       "      <td>0</td>\n",
       "      <td>0</td>\n",
       "      <td>0</td>\n",
       "      <td>1</td>\n",
       "      <td>0</td>\n",
       "      <td>0</td>\n",
       "    </tr>\n",
       "    <tr>\n",
       "      <th>1</th>\n",
       "      <td>30000</td>\n",
       "      <td>73,331.159</td>\n",
       "      <td>14.930</td>\n",
       "      <td>0</td>\n",
       "      <td>12</td>\n",
       "      <td>24</td>\n",
       "      <td>0</td>\n",
       "      <td>0</td>\n",
       "      <td>0</td>\n",
       "      <td>0</td>\n",
       "      <td>...</td>\n",
       "      <td>0</td>\n",
       "      <td>0</td>\n",
       "      <td>0</td>\n",
       "      <td>0</td>\n",
       "      <td>0</td>\n",
       "      <td>0</td>\n",
       "      <td>0</td>\n",
       "      <td>1</td>\n",
       "      <td>0</td>\n",
       "      <td>2</td>\n",
       "    </tr>\n",
       "    <tr>\n",
       "      <th>2</th>\n",
       "      <td>24725</td>\n",
       "      <td>75,566.400</td>\n",
       "      <td>15.880</td>\n",
       "      <td>0</td>\n",
       "      <td>12</td>\n",
       "      <td>16</td>\n",
       "      <td>0</td>\n",
       "      <td>0</td>\n",
       "      <td>0</td>\n",
       "      <td>0</td>\n",
       "      <td>...</td>\n",
       "      <td>0</td>\n",
       "      <td>0</td>\n",
       "      <td>0</td>\n",
       "      <td>0</td>\n",
       "      <td>0</td>\n",
       "      <td>0</td>\n",
       "      <td>0</td>\n",
       "      <td>0</td>\n",
       "      <td>1</td>\n",
       "      <td>2</td>\n",
       "    </tr>\n",
       "    <tr>\n",
       "      <th>3</th>\n",
       "      <td>16000</td>\n",
       "      <td>56,160.000</td>\n",
       "      <td>14.340</td>\n",
       "      <td>3</td>\n",
       "      <td>16</td>\n",
       "      <td>22</td>\n",
       "      <td>0</td>\n",
       "      <td>0</td>\n",
       "      <td>0</td>\n",
       "      <td>0</td>\n",
       "      <td>...</td>\n",
       "      <td>0</td>\n",
       "      <td>0</td>\n",
       "      <td>0</td>\n",
       "      <td>0</td>\n",
       "      <td>0</td>\n",
       "      <td>0</td>\n",
       "      <td>0</td>\n",
       "      <td>0</td>\n",
       "      <td>1</td>\n",
       "      <td>2</td>\n",
       "    </tr>\n",
       "    <tr>\n",
       "      <th>4</th>\n",
       "      <td>17000</td>\n",
       "      <td>96,000.000</td>\n",
       "      <td>22.170</td>\n",
       "      <td>1</td>\n",
       "      <td>19</td>\n",
       "      <td>30</td>\n",
       "      <td>0</td>\n",
       "      <td>0</td>\n",
       "      <td>0</td>\n",
       "      <td>0</td>\n",
       "      <td>...</td>\n",
       "      <td>0</td>\n",
       "      <td>0</td>\n",
       "      <td>0</td>\n",
       "      <td>0</td>\n",
       "      <td>0</td>\n",
       "      <td>0</td>\n",
       "      <td>0</td>\n",
       "      <td>1</td>\n",
       "      <td>0</td>\n",
       "      <td>0</td>\n",
       "    </tr>\n",
       "  </tbody>\n",
       "</table>\n",
       "<p>5 rows × 42 columns</p>\n",
       "</div>"
      ],
      "text/plain": [
       "   Loan_Amount_Requested  Annual_Income  Debt_To_Income  Inquiries_Last_6Mo  \\\n",
       "0                   7000     68,000.000          18.370                   0   \n",
       "1                  30000     73,331.159          14.930                   0   \n",
       "2                  24725     75,566.400          15.880                   0   \n",
       "3                  16000     56,160.000          14.340                   3   \n",
       "4                  17000     96,000.000          22.170                   1   \n",
       "\n",
       "   Number_Open_Accounts  Total_Accounts  Length_Employed_1 year  \\\n",
       "0                     9              14                       0   \n",
       "1                    12              24                       0   \n",
       "2                    12              16                       0   \n",
       "3                    16              22                       0   \n",
       "4                    19              30                       0   \n",
       "\n",
       "   Length_Employed_10+ years  Length_Employed_2 years  \\\n",
       "0                          0                        0   \n",
       "1                          0                        0   \n",
       "2                          0                        0   \n",
       "3                          0                        0   \n",
       "4                          0                        0   \n",
       "\n",
       "   Length_Employed_3 years  ...  Purpose_Of_Loan_medical  \\\n",
       "0                        0  ...                        0   \n",
       "1                        0  ...                        0   \n",
       "2                        0  ...                        0   \n",
       "3                        0  ...                        0   \n",
       "4                        0  ...                        0   \n",
       "\n",
       "   Purpose_Of_Loan_moving  Purpose_Of_Loan_other  \\\n",
       "0                       0                      0   \n",
       "1                       0                      0   \n",
       "2                       0                      0   \n",
       "3                       0                      0   \n",
       "4                       0                      0   \n",
       "\n",
       "   Purpose_Of_Loan_renewable_energy  Purpose_Of_Loan_small_business  \\\n",
       "0                                 0                               0   \n",
       "1                                 0                               0   \n",
       "2                                 0                               0   \n",
       "3                                 0                               0   \n",
       "4                                 0                               0   \n",
       "\n",
       "   Purpose_Of_Loan_vacation  Purpose_Of_Loan_wedding  Gender_Female  \\\n",
       "0                         0                        0              1   \n",
       "1                         0                        0              1   \n",
       "2                         0                        0              0   \n",
       "3                         0                        0              0   \n",
       "4                         0                        0              1   \n",
       "\n",
       "   Gender_Male  Interest_Rate  \n",
       "0            0              0  \n",
       "1            0              2  \n",
       "2            1              2  \n",
       "3            1              2  \n",
       "4            0              0  \n",
       "\n",
       "[5 rows x 42 columns]"
      ]
     },
     "execution_count": 3,
     "metadata": {},
     "output_type": "execute_result"
    }
   ],
   "source": [
    "#Open the data data\n",
    "new_df=pd.read_csv(\"new_data_generated.csv\")\n",
    "#Changing the number of the target to get numbers from 0 to 2 ( 0,1,2) in order to avoid problems with some algorithms\n",
    "new_df[[\"Interest_Rate\"]]=new_df[[\"Interest_Rate\"]]-1\n",
    "new_df.head()"
   ]
  },
  {
   "cell_type": "code",
   "execution_count": 4,
   "id": "9b86d20c",
   "metadata": {},
   "outputs": [],
   "source": [
    "#Defining X and y\n",
    "X_bal=new_df.drop(columns=[\"Interest_Rate\"])\n",
    "y_bal=new_df[[\"Interest_Rate\"]]"
   ]
  },
  {
   "cell_type": "code",
   "execution_count": 5,
   "id": "743f2e98",
   "metadata": {},
   "outputs": [],
   "source": [
    "#Splitting the data in train and test\n",
    "from sklearn.model_selection import train_test_split\n",
    "X_train,X_test,y_train,y_test=train_test_split(X_bal,y_bal,test_size=0.3, stratify=y_bal,random_state=42)"
   ]
  },
  {
   "cell_type": "code",
   "execution_count": 6,
   "id": "57f10493",
   "metadata": {},
   "outputs": [],
   "source": [
    "#Standardization the data\n",
    "\n",
    "from sklearn.preprocessing import StandardScaler\n",
    "\n",
    "scaler_x=StandardScaler()\n",
    "\n",
    "scaler_x.fit(X_train)\n",
    "\n",
    "X_train=pd.DataFrame(scaler_x.transform(X_train),columns=X_train.columns)\n",
    "\n",
    "X_test=pd.DataFrame(scaler_x.transform(X_test),columns=X_test.columns)"
   ]
  },
  {
   "cell_type": "code",
   "execution_count": 7,
   "id": "d89941d8",
   "metadata": {},
   "outputs": [],
   "source": [
    "#EVALUATING DIFFERENT MACHINE LEARNING MODELS"
   ]
  },
  {
   "cell_type": "code",
   "execution_count": 8,
   "id": "7d13c13d",
   "metadata": {},
   "outputs": [],
   "source": [
    "#EVALUATING DIFFERENT MACHINE LEARNING MODELS\n",
    "\n",
    "#Importing the libraries\n",
    "from sklearn.preprocessing import StandardScaler\n",
    "from sklearn.model_selection import KFold,cross_val_score\n",
    "from sklearn.linear_model import LogisticRegression\n",
    "from sklearn.discriminant_analysis import LinearDiscriminantAnalysis\n",
    "from sklearn.naive_bayes import GaussianNB\n",
    "from sklearn.neighbors import KNeighborsClassifier\n",
    "from sklearn.tree import DecisionTreeClassifier\n",
    "\n",
    "#Ensemble\n",
    "from xgboost import XGBClassifier\n",
    "from catboost import CatBoostClassifier\n",
    "from lightgbm import LGBMClassifier\n",
    "from sklearn.ensemble import RandomForestClassifier,BaggingClassifier,ExtraTreesClassifier,AdaBoostClassifier,GradientBoostingClassifier\n",
    "from sklearn.ensemble import StackingClassifier,VotingClassifier\n",
    "\n",
    "#Estimators for voting\n",
    "estimators_voting=[(\"lr\",LogisticRegression(solver=\"lbfgs\",max_iter=10000,multi_class=\"multinomial\")),(\"knn\",KNeighborsClassifier(5)),(\"rfc\",RandomForestClassifier())]\n",
    "\n",
    "#Estimators for stacking\n",
    "# Prepare the list of tuples with the first-layer classifiers\n",
    "classifiers = [('clf_dt',DecisionTreeClassifier(min_samples_leaf= 3 , min_samples_split= 9, random_state=500)),('clf_knn',KNeighborsClassifier(n_neighbors=5,algorithm= 'ball_tree'))]\n",
    "# Instantiate the second-layer meta estimator\n",
    "clf_meta = RandomForestClassifier(n_estimators=10,random_state=69)"
   ]
  },
  {
   "cell_type": "code",
   "execution_count": 9,
   "id": "8b4d8aec",
   "metadata": {},
   "outputs": [
    {
     "name": "stdout",
     "output_type": "stream",
     "text": [
      "Logistic Regression :57.98% (0.48%)\n",
      "LDA :57.46% (0.36%)\n",
      "Naive Bayes :45.56% (2.66%)\n",
      "KNN :51.99% (0.43%)\n",
      "Decision Tree :49.64% (0.42%)\n",
      "XGB Classifier :59.51% (0.45%)\n",
      "Cat Boost Classifier :57.33% (0.31%)\n",
      "LGBM Classifier :54.49% (0.28%)\n",
      "Random Forest :57.13% (0.43%)\n",
      "Bagging Class :54.32% (0.48%)\n",
      "Extra trees :55.59% (0.28%)\n",
      "Ada Boost :56.32% (0.37%)\n",
      "Gradient Boosting :58.18% (0.46%)\n",
      "Voting Classifier :56.91% (0.43%)\n",
      "Average Voting Classifier :56.99% (0.37%)\n",
      "Stacking Classifier :54.25% (0.29%)\n"
     ]
    }
   ],
   "source": [
    "#Preparing the models\n",
    "models=[]\n",
    "models.append((\"Logistic Regression\",LogisticRegression(solver=\"lbfgs\",max_iter=10000,multi_class=\"multinomial\")))\n",
    "models.append((\"LDA\",LinearDiscriminantAnalysis()))\n",
    "models.append((\"Naive Bayes\",GaussianNB()))\n",
    "models.append((\"KNN\",KNeighborsClassifier()))\n",
    "models.append((\"Decision Tree\",DecisionTreeClassifier()))\n",
    "models.append((\"XGB Classifier\",XGBClassifier(objective=\"multi:softmax\")))\n",
    "models.append((\"Cat Boost Classifier\",CatBoostClassifier(n_estimators =100,learning_rate=0.1, max_depth=3, random_state=500,verbose=0)))\n",
    "models.append((\"LGBM Classifier\",LGBMClassifier(max_depth = 3, learning_rate = 0.1, n_estimators = 10, objective='multiclass', seed=500,verbose=0,force_row_wise=True)))\n",
    "models.append((\"Random Forest\",RandomForestClassifier()))\n",
    "models.append((\"Bagging Class\",BaggingClassifier()))\n",
    "models.append((\"Extra trees\",ExtraTreesClassifier()))\n",
    "models.append((\"Ada Boost\",AdaBoostClassifier()))\n",
    "models.append((\"Gradient Boosting\",GradientBoostingClassifier()))\n",
    "models.append((\"Voting Classifier\",VotingClassifier(estimators_voting)))\n",
    "models.append((\"Average Voting Classifier\",VotingClassifier(estimators_voting,voting=\"soft\")))\n",
    "models.append((\"Stacking Classifier\",StackingClassifier(classifiers,clf_meta,stack_method='predict_proba',passthrough = False)))\n",
    "\n",
    "#Evaluating each model in turn\n",
    "results=[]\n",
    "names=[]\n",
    "scoring=\"accuracy\"\n",
    "scaler=StandardScaler()\n",
    "\n",
    "for name, model in models:\n",
    "  kfold=KFold(n_splits=10,shuffle=True)\n",
    "  cv_results=cross_val_score(model,X_train.values,y_train.values.reshape(-1,1).ravel(),cv=kfold,scoring=scoring)\n",
    "  results.append(cv_results)\n",
    "  names.append(name)\n",
    "  print(f\"{name} :{cv_results.mean()*100:,.2f}% ({cv_results.std()*100:.2f}%)\")"
   ]
  },
  {
   "cell_type": "code",
   "execution_count": 10,
   "id": "7c082eea",
   "metadata": {},
   "outputs": [
    {
     "data": {
      "image/png": "[encoded data removed]",
      "text/plain": [
       "<Figure size 640x480 with 1 Axes>"
      ]
     },
     "metadata": {},
     "output_type": "display_data"
    }
   ],
   "source": [
    "import matplotlib.pyplot as plt\n",
    "fig=plt.figure()\n",
    "fig.suptitle(\"Comparison of the different Algorithms\")\n",
    "ax=fig.add_subplot(111)\n",
    "plt.rcParams[\"figure.figsize\"]=[4,6]\n",
    "plt.boxplot(results)\n",
    "ax.set_xticklabels(names,rotation=\"vertical\")\n",
    "plt.show()"
   ]
  },
  {
   "cell_type": "code",
   "execution_count": 34,
   "id": "7828f0ab",
   "metadata": {},
   "outputs": [
    {
     "name": "stdout",
     "output_type": "stream",
     "text": [
      "Best : 0.587243 using the params {'max_depth': 9, 'n_estimators': 19}\n",
      "0.521064 (0.005056) with {'max_depth': 2, 'n_estimators': 5}\n",
      "0.528795 (0.002991) with {'max_depth': 2, 'n_estimators': 6}\n",
      "0.531359 (0.004616) with {'max_depth': 2, 'n_estimators': 7}\n",
      "0.536676 (0.004922) with {'max_depth': 2, 'n_estimators': 8}\n",
      "0.538275 (0.004417) with {'max_depth': 2, 'n_estimators': 9}\n",
      "0.539206 (0.003394) with {'max_depth': 2, 'n_estimators': 10}\n",
      "0.542950 (0.003264) with {'max_depth': 2, 'n_estimators': 11}\n",
      "0.546472 (0.003782) with {'max_depth': 2, 'n_estimators': 12}\n",
      "0.549582 (0.002189) with {'max_depth': 2, 'n_estimators': 13}\n",
      "0.549994 (0.001777) with {'max_depth': 2, 'n_estimators': 14}\n",
      "0.552659 (0.001301) with {'max_depth': 2, 'n_estimators': 15}\n",
      "0.555310 (0.001583) with {'max_depth': 2, 'n_estimators': 16}\n",
      "0.556181 (0.001939) with {'max_depth': 2, 'n_estimators': 17}\n",
      "0.557867 (0.001369) with {'max_depth': 2, 'n_estimators': 18}\n",
      "0.559176 (0.000979) with {'max_depth': 2, 'n_estimators': 19}\n",
      "0.544765 (0.002740) with {'max_depth': 3, 'n_estimators': 5}\n",
      "0.550250 (0.002218) with {'max_depth': 3, 'n_estimators': 6}\n",
      "0.554535 (0.002716) with {'max_depth': 3, 'n_estimators': 7}\n",
      "0.557355 (0.002571) with {'max_depth': 3, 'n_estimators': 8}\n",
      "0.559021 (0.002104) with {'max_depth': 3, 'n_estimators': 9}\n",
      "0.560708 (0.002613) with {'max_depth': 3, 'n_estimators': 10}\n",
      "0.562462 (0.002676) with {'max_depth': 3, 'n_estimators': 11}\n",
      "0.564311 (0.002608) with {'max_depth': 3, 'n_estimators': 12}\n",
      "0.566099 (0.002120) with {'max_depth': 3, 'n_estimators': 13}\n",
      "0.567009 (0.001643) with {'max_depth': 3, 'n_estimators': 14}\n",
      "0.567590 (0.002061) with {'max_depth': 3, 'n_estimators': 15}\n",
      "0.568514 (0.002007) with {'max_depth': 3, 'n_estimators': 16}\n",
      "0.569958 (0.001619) with {'max_depth': 3, 'n_estimators': 17}\n",
      "0.570356 (0.001999) with {'max_depth': 3, 'n_estimators': 18}\n",
      "0.571253 (0.001240) with {'max_depth': 3, 'n_estimators': 19}\n",
      "0.553394 (0.003045) with {'max_depth': 4, 'n_estimators': 5}\n",
      "0.557712 (0.003747) with {'max_depth': 4, 'n_estimators': 6}\n",
      "0.560283 (0.003291) with {'max_depth': 4, 'n_estimators': 7}\n",
      "0.563649 (0.002872) with {'max_depth': 4, 'n_estimators': 8}\n",
      "0.565242 (0.003559) with {'max_depth': 4, 'n_estimators': 9}\n",
      "0.568008 (0.002876) with {'max_depth': 4, 'n_estimators': 10}\n",
      "0.569877 (0.002911) with {'max_depth': 4, 'n_estimators': 11}\n",
      "0.571145 (0.002023) with {'max_depth': 4, 'n_estimators': 12}\n",
      "0.571881 (0.002293) with {'max_depth': 4, 'n_estimators': 13}\n",
      "0.573102 (0.002012) with {'max_depth': 4, 'n_estimators': 14}\n",
      "0.573871 (0.002264) with {'max_depth': 4, 'n_estimators': 15}\n",
      "0.573851 (0.002151) with {'max_depth': 4, 'n_estimators': 16}\n",
      "0.575052 (0.002170) with {'max_depth': 4, 'n_estimators': 17}\n",
      "0.575996 (0.001827) with {'max_depth': 4, 'n_estimators': 18}\n",
      "0.576286 (0.002207) with {'max_depth': 4, 'n_estimators': 19}\n",
      "0.559892 (0.001861) with {'max_depth': 5, 'n_estimators': 5}\n",
      "0.562327 (0.002222) with {'max_depth': 5, 'n_estimators': 6}\n",
      "0.566119 (0.002500) with {'max_depth': 5, 'n_estimators': 7}\n",
      "0.568372 (0.001945) with {'max_depth': 5, 'n_estimators': 8}\n",
      "0.570720 (0.002552) with {'max_depth': 5, 'n_estimators': 9}\n",
      "0.571914 (0.002221) with {'max_depth': 5, 'n_estimators': 10}\n",
      "0.573783 (0.002017) with {'max_depth': 5, 'n_estimators': 11}\n",
      "0.574802 (0.002387) with {'max_depth': 5, 'n_estimators': 12}\n",
      "0.574923 (0.001657) with {'max_depth': 5, 'n_estimators': 13}\n",
      "0.576097 (0.001848) with {'max_depth': 5, 'n_estimators': 14}\n",
      "0.577028 (0.002167) with {'max_depth': 5, 'n_estimators': 15}\n",
      "0.577750 (0.001831) with {'max_depth': 5, 'n_estimators': 16}\n",
      "0.578789 (0.002179) with {'max_depth': 5, 'n_estimators': 17}\n",
      "0.579437 (0.001852) with {'max_depth': 5, 'n_estimators': 18}\n",
      "0.580651 (0.002001) with {'max_depth': 5, 'n_estimators': 19}\n",
      "0.564533 (0.002033) with {'max_depth': 6, 'n_estimators': 5}\n",
      "0.567772 (0.001512) with {'max_depth': 6, 'n_estimators': 6}\n",
      "0.570444 (0.002237) with {'max_depth': 6, 'n_estimators': 7}\n",
      "0.572704 (0.001483) with {'max_depth': 6, 'n_estimators': 8}\n",
      "0.574559 (0.001838) with {'max_depth': 6, 'n_estimators': 9}\n",
      "0.575956 (0.002134) with {'max_depth': 6, 'n_estimators': 10}\n",
      "0.577022 (0.002083) with {'max_depth': 6, 'n_estimators': 11}\n",
      "0.578209 (0.001832) with {'max_depth': 6, 'n_estimators': 12}\n",
      "0.579079 (0.002585) with {'max_depth': 6, 'n_estimators': 13}\n",
      "0.579909 (0.002681) with {'max_depth': 6, 'n_estimators': 14}\n",
      "0.580436 (0.002129) with {'max_depth': 6, 'n_estimators': 15}\n",
      "0.581549 (0.002147) with {'max_depth': 6, 'n_estimators': 16}\n",
      "0.582122 (0.001898) with {'max_depth': 6, 'n_estimators': 17}\n",
      "0.583047 (0.002055) with {'max_depth': 6, 'n_estimators': 18}\n",
      "0.583256 (0.002239) with {'max_depth': 6, 'n_estimators': 19}\n",
      "0.568878 (0.002373) with {'max_depth': 7, 'n_estimators': 5}\n",
      "0.570916 (0.001505) with {'max_depth': 7, 'n_estimators': 6}\n",
      "0.573797 (0.002050) with {'max_depth': 7, 'n_estimators': 7}\n",
      "0.574505 (0.002876) with {'max_depth': 7, 'n_estimators': 8}\n",
      "0.576394 (0.002239) with {'max_depth': 7, 'n_estimators': 9}\n",
      "0.577292 (0.002273) with {'max_depth': 7, 'n_estimators': 10}\n",
      "0.577750 (0.002394) with {'max_depth': 7, 'n_estimators': 11}\n",
      "0.579066 (0.002689) with {'max_depth': 7, 'n_estimators': 12}\n",
      "0.580213 (0.002049) with {'max_depth': 7, 'n_estimators': 13}\n",
      "0.581130 (0.002411) with {'max_depth': 7, 'n_estimators': 14}\n",
      "0.581535 (0.002273) with {'max_depth': 7, 'n_estimators': 15}\n",
      "0.582203 (0.002520) with {'max_depth': 7, 'n_estimators': 16}\n",
      "0.582676 (0.002202) with {'max_depth': 7, 'n_estimators': 17}\n",
      "0.583370 (0.002437) with {'max_depth': 7, 'n_estimators': 18}\n",
      "0.584106 (0.002518) with {'max_depth': 7, 'n_estimators': 19}\n",
      "0.572609 (0.002044) with {'max_depth': 8, 'n_estimators': 5}\n",
      "0.575436 (0.002410) with {'max_depth': 8, 'n_estimators': 6}\n",
      "0.576165 (0.002107) with {'max_depth': 8, 'n_estimators': 7}\n",
      "0.578121 (0.002347) with {'max_depth': 8, 'n_estimators': 8}\n",
      "0.578911 (0.002270) with {'max_depth': 8, 'n_estimators': 9}\n",
      "0.580476 (0.002959) with {'max_depth': 8, 'n_estimators': 10}\n",
      "0.581184 (0.002843) with {'max_depth': 8, 'n_estimators': 11}\n",
      "0.581407 (0.002749) with {'max_depth': 8, 'n_estimators': 12}\n",
      "0.582365 (0.002911) with {'max_depth': 8, 'n_estimators': 13}\n",
      "0.583539 (0.003044) with {'max_depth': 8, 'n_estimators': 14}\n",
      "0.584227 (0.003136) with {'max_depth': 8, 'n_estimators': 15}\n",
      "0.585104 (0.003334) with {'max_depth': 8, 'n_estimators': 16}\n",
      "0.585442 (0.003574) with {'max_depth': 8, 'n_estimators': 17}\n",
      "0.586116 (0.003345) with {'max_depth': 8, 'n_estimators': 18}\n",
      "0.586265 (0.003109) with {'max_depth': 8, 'n_estimators': 19}\n",
      "0.573736 (0.002497) with {'max_depth': 9, 'n_estimators': 5}\n",
      "0.575450 (0.002602) with {'max_depth': 9, 'n_estimators': 6}\n",
      "0.576833 (0.002435) with {'max_depth': 9, 'n_estimators': 7}\n",
      "0.578465 (0.002856) with {'max_depth': 9, 'n_estimators': 8}\n",
      "0.580517 (0.003761) with {'max_depth': 9, 'n_estimators': 9}\n",
      "0.581259 (0.003171) with {'max_depth': 9, 'n_estimators': 10}\n",
      "0.581670 (0.002992) with {'max_depth': 9, 'n_estimators': 11}\n",
      "0.582284 (0.003143) with {'max_depth': 9, 'n_estimators': 12}\n",
      "0.583485 (0.003424) with {'max_depth': 9, 'n_estimators': 13}\n",
      "0.583809 (0.003511) with {'max_depth': 9, 'n_estimators': 14}\n",
      "0.585071 (0.003364) with {'max_depth': 9, 'n_estimators': 15}\n",
      "0.585847 (0.003211) with {'max_depth': 9, 'n_estimators': 16}\n",
      "0.586305 (0.003348) with {'max_depth': 9, 'n_estimators': 17}\n",
      "0.587074 (0.003186) with {'max_depth': 9, 'n_estimators': 18}\n",
      "0.587243 (0.003649) with {'max_depth': 9, 'n_estimators': 19}\n",
      "0.574492 (0.002415) with {'max_depth': 10, 'n_estimators': 5}\n",
      "0.575315 (0.002834) with {'max_depth': 10, 'n_estimators': 6}\n",
      "0.575868 (0.003595) with {'max_depth': 10, 'n_estimators': 7}\n",
      "0.578148 (0.003689) with {'max_depth': 10, 'n_estimators': 8}\n",
      "0.579066 (0.003419) with {'max_depth': 10, 'n_estimators': 9}\n",
      "0.580402 (0.003108) with {'max_depth': 10, 'n_estimators': 10}\n",
      "0.581090 (0.003277) with {'max_depth': 10, 'n_estimators': 11}\n",
      "0.581610 (0.002892) with {'max_depth': 10, 'n_estimators': 12}\n",
      "0.582756 (0.002779) with {'max_depth': 10, 'n_estimators': 13}\n",
      "0.583384 (0.002455) with {'max_depth': 10, 'n_estimators': 14}\n",
      "0.584261 (0.003004) with {'max_depth': 10, 'n_estimators': 15}\n",
      "0.584605 (0.002983) with {'max_depth': 10, 'n_estimators': 16}\n",
      "0.585604 (0.003662) with {'max_depth': 10, 'n_estimators': 17}\n",
      "0.586251 (0.003608) with {'max_depth': 10, 'n_estimators': 18}\n",
      "0.586400 (0.003590) with {'max_depth': 10, 'n_estimators': 19}\n",
      "0.573358 (0.003024) with {'max_depth': 11, 'n_estimators': 5}\n",
      "0.575659 (0.003245) with {'max_depth': 11, 'n_estimators': 6}\n",
      "0.576394 (0.004124) with {'max_depth': 11, 'n_estimators': 7}\n",
      "0.576448 (0.003707) with {'max_depth': 11, 'n_estimators': 8}\n",
      "0.578385 (0.003282) with {'max_depth': 11, 'n_estimators': 9}\n",
      "0.578607 (0.003487) with {'max_depth': 11, 'n_estimators': 10}\n",
      "0.579707 (0.003262) with {'max_depth': 11, 'n_estimators': 11}\n",
      "0.580705 (0.003032) with {'max_depth': 11, 'n_estimators': 12}\n",
      "0.581954 (0.003362) with {'max_depth': 11, 'n_estimators': 13}\n",
      "0.582689 (0.002925) with {'max_depth': 11, 'n_estimators': 14}\n",
      "0.583350 (0.003542) with {'max_depth': 11, 'n_estimators': 15}\n",
      "0.584470 (0.002989) with {'max_depth': 11, 'n_estimators': 16}\n",
      "0.585104 (0.003324) with {'max_depth': 11, 'n_estimators': 17}\n",
      "0.585496 (0.003193) with {'max_depth': 11, 'n_estimators': 18}\n",
      "0.586407 (0.003597) with {'max_depth': 11, 'n_estimators': 19}\n"
     ]
    }
   ],
   "source": [
    "#Fine Tuning the best model\n",
    "\n",
    "from sklearn.model_selection import GridSearchCV\n",
    "import numpy as np\n",
    "\n",
    "\n",
    "parameters = {\n",
    "    'n_estimators': range(5,20),\n",
    "    'max_depth': range(2, 12)\n",
    "}\n",
    "\n",
    "model=XGBClassifier(objective=\"multi:softmax\")\n",
    "\n",
    "kfold=KFold(n_splits=5,shuffle=True)\n",
    "\n",
    "grid_result=GridSearchCV(estimator=model,param_grid=parameters,cv=kfold)\n",
    "\n",
    "grid_result.fit(X_train.values,(y_train.values.reshape(-1,1)).ravel())\n",
    "\n",
    "#Summarize_results\n",
    "\n",
    "print(\"Best : %f using the params %s\" % (grid_result.best_score_ , grid_result.best_params_))\n",
    "\n",
    "means=grid_result.cv_results_[\"mean_test_score\"]\n",
    "stds=grid_result.cv_results_[\"std_test_score\"]\n",
    "params=grid_result.cv_results_[\"params\"]\n",
    "\n",
    "\n",
    "for mean,stdev,param in zip(means,stds,params):\n",
    "    \n",
    "  print(\"%f (%f) with %r\" % (mean,stdev,param))"
   ]
  },
  {
   "cell_type": "code",
   "execution_count": 35,
   "id": "d065b6cf",
   "metadata": {},
   "outputs": [],
   "source": [
    "#Saving the scalers\n",
    "from pickle import dump\n",
    "dump(scaler_x,open(\"scaler_x.pkl\",\"wb\"))"
   ]
  },
  {
   "cell_type": "code",
   "execution_count": 36,
   "id": "09212106",
   "metadata": {},
   "outputs": [],
   "source": [
    "#Saving the fine_tuned model\n",
    "dump(grid_result,open(\"best_model_multiclass.pkl\",\"wb\"))"
   ]
  },
  {
   "cell_type": "code",
   "execution_count": 37,
   "id": "a75067b4",
   "metadata": {},
   "outputs": [
    {
     "name": "stdout",
     "output_type": "stream",
     "text": [
      "Cohen Kappa : 0.382710  \n",
      "================================================================================\n",
      "Classification Report:\n",
      "              precision    recall  f1-score   support\n",
      "\n",
      "           0       0.73      0.59      0.66     21174\n",
      "           1       0.50      0.60      0.54     21174\n",
      "           2       0.58      0.57      0.57     21174\n",
      "\n",
      "    accuracy                           0.59     63522\n",
      "   macro avg       0.60      0.59      0.59     63522\n",
      "weighted avg       0.60      0.59      0.59     63522\n",
      "\n"
     ]
    }
   ],
   "source": [
    "#Evaluating the model using cohen_kappa and classification_report\n",
    "\n",
    "from sklearn.metrics import cohen_kappa_score,classification_report\n",
    "\n",
    "y_pred=pd.DataFrame(grid_result.predict(X_test).reshape(-1,1),columns=y_test.columns)\n",
    "\n",
    "kappa=cohen_kappa_score(y_test,y_pred)\n",
    "\n",
    "clas_rep=classification_report(y_test,y_pred)\n",
    "\n",
    "print(\"Cohen Kappa : %f  \" % (kappa))\n",
    "print(\"=\"*80)\n",
    "print(\"Classification Report:\")\n",
    "print(clas_rep)"
   ]
  },
  {
   "cell_type": "code",
   "execution_count": 42,
   "id": "c98503be",
   "metadata": {},
   "outputs": [
    {
     "data": {
      "image/png": "[encoded data removed]",
      "text/plain": [
       "<Figure size 640x480 with 2 Axes>"
      ]
     },
     "metadata": {},
     "output_type": "display_data"
    }
   ],
   "source": [
    "#Evaluating the model with a confusion matrix\n",
    "from sklearn.metrics import plot_confusion_matrix\n",
    "plot_confusion_matrix(grid_result,X_test.values,y_test.values.reshape(-1,1).ravel());"
   ]
  },
  {
   "cell_type": "code",
   "execution_count": 43,
   "id": "16a27a3a",
   "metadata": {},
   "outputs": [
    {
     "name": "stdout",
     "output_type": "stream",
     "text": [
      "Real = 0 , Prediction = 0 \n",
      "Real = 0 , Prediction = 2 \n",
      "Real = 1 , Prediction = 1 \n",
      "Real = 0 , Prediction = 2 \n",
      "Real = 0 , Prediction = 2 \n",
      "Real = 1 , Prediction = 2 \n",
      "Real = 2 , Prediction = 1 \n",
      "Real = 0 , Prediction = 1 \n",
      "Real = 1 , Prediction = 1 \n",
      "Real = 1 , Prediction = 2 \n",
      "Real = 2 , Prediction = 2 \n",
      "Real = 0 , Prediction = 0 \n",
      "Real = 1 , Prediction = 2 \n",
      "Real = 0 , Prediction = 0 \n",
      "Real = 0 , Prediction = 0 \n",
      "Real = 1 , Prediction = 1 \n",
      "Real = 2 , Prediction = 2 \n",
      "Real = 2 , Prediction = 2 \n",
      "Real = 1 , Prediction = 2 \n",
      "Real = 1 , Prediction = 0 \n"
     ]
    }
   ],
   "source": [
    "#Proving the results\n",
    "\n",
    "for i in range(0,20):\n",
    "    \n",
    "    print(\"Real = {} , Prediction = {} \".format(y_test.values[i][0] , round(y_pred.values[i][0])) )"
   ]
  },
  {
   "cell_type": "code",
   "execution_count": 44,
   "id": "3d0781a9",
   "metadata": {},
   "outputs": [],
   "source": [
    "#Saving the columns in a dictionary in order to use them in production\n",
    "\n",
    "dictionary=dict(zip(X_bal.columns,range(X_bal.shape[1])))\n",
    "\n",
    "dump(dictionary,open(\"dictionary.pkl\",\"wb\"))"
   ]
  },
  {
   "cell_type": "code",
   "execution_count": 45,
   "id": "0d089bdb",
   "metadata": {},
   "outputs": [
    {
     "name": "stdout",
     "output_type": "stream",
     "text": [
      "100%|███████████████████████████████████████████████| 20/20 [02:00<00:00,  6.01s/trial, best loss: 0.41655534415523077]\n",
      "{'max_depth': 8.0, 'n_estimators': 18.0}\n"
     ]
    }
   ],
   "source": [
    "##HYPERPARAMETER TUNING WITH HYPEROPT\n",
    "\n",
    "from hyperopt import hp,fmin,tpe\n",
    "import numpy as np\n",
    "\n",
    "# Set up space dictionary with specified hyperparameters\n",
    "space = {'n_estimators':hp.quniform('n_estimators', 5,21,1),'max_depth': hp.quniform('max_depth', 2,12,2)}\n",
    "\n",
    "# Set up objective function\n",
    "def objective(params):\n",
    "    params = {'n_estimators': int(params['n_estimators']),'max_depth': int(params['max_depth'])}\n",
    "    xgb_clf = XGBClassifier(**params) \n",
    "    best_score = cross_val_score(xgb_clf, X_train.values, y_train, scoring='accuracy', cv=2, n_jobs=4).mean()\n",
    "    loss = 1 - best_score\n",
    "    return loss\n",
    "\n",
    "# Run the algorithm\n",
    "best = fmin(fn=objective,space=space, max_evals=20, rstate=np.random.default_rng(42), algo=tpe.suggest)\n",
    "print(best)"
   ]
  },
  {
   "cell_type": "code",
   "execution_count": 47,
   "id": "9195dce0",
   "metadata": {},
   "outputs": [
    {
     "name": "stdout",
     "output_type": "stream",
     "text": [
      "Classification Report:\n",
      "              precision    recall  f1-score   support\n",
      "\n",
      "           0       0.73      0.59      0.66     21174\n",
      "           1       0.50      0.60      0.54     21174\n",
      "           2       0.58      0.57      0.57     21174\n",
      "\n",
      "    accuracy                           0.59     63522\n",
      "   macro avg       0.60      0.59      0.59     63522\n",
      "weighted avg       0.60      0.59      0.59     63522\n",
      "\n"
     ]
    }
   ],
   "source": [
    "#Creating the model with the results gotten from the Hyperopt and evaluating it using different scalers\n",
    "\n",
    "modelo=XGBClassifier(max_depth=8, n_estimators= 18)\n",
    "\n",
    "modelo.fit(X_train.values,y_train.values.ravel())\n",
    "\n",
    "from sklearn.metrics import classification_report\n",
    "\n",
    "y_pred=pd.DataFrame(grid_result.predict(X_test).reshape(-1,1),columns=y_test.columns)\n",
    "\n",
    "clas_rep=classification_report(y_test,y_pred)\n",
    "\n",
    "print(\"Classification Report:\")\n",
    "\n",
    "print(clas_rep)"
   ]
  },
  {
   "cell_type": "code",
   "execution_count": 48,
   "id": "45755783",
   "metadata": {},
   "outputs": [
    {
     "data": {
      "image/png": "[encoded data removed]",
      "text/plain": [
       "<Figure size 640x480 with 2 Axes>"
      ]
     },
     "metadata": {},
     "output_type": "display_data"
    }
   ],
   "source": [
    "#Evaluating the model with a confusion matrix\n",
    "from sklearn.metrics import plot_confusion_matrix\n",
    "plot_confusion_matrix(modelo,X_test.values,y_test.values.reshape(-1,1).ravel());"
   ]
  },
  {
   "cell_type": "code",
   "execution_count": 55,
   "id": "5fd15ee1",
   "metadata": {},
   "outputs": [
    {
     "data": {
      "application/vnd.jupyter.widget-view+json": {
       "model_id": "",
       "version_major": 2,
       "version_minor": 0
      },
      "text/plain": [
       "Optimization Progress:   0%|          | 0/29 [00:00<?, ?pipeline/s]"
      ]
     },
     "metadata": {},
     "output_type": "display_data"
    },
    {
     "name": "stdout",
     "output_type": "stream",
     "text": [
      "\n",
      "Generation 1 - Current best internal CV score: 0.5738101984914112\n",
      "\n",
      "Generation 2 - Current best internal CV score: 0.5738101984914112\n",
      "\n",
      "Generation 3 - Current best internal CV score: 0.5738101984914112\n",
      "\n",
      "Generation 4 - Current best internal CV score: 0.579052476757209\n",
      "\n",
      "Generation 5 - Current best internal CV score: 0.579052476757209\n",
      "\n",
      "Generation 6 - Current best internal CV score: 0.579052476757209\n",
      "\n",
      "Best pipeline: XGBClassifier(input_matrix, learning_rate=0.5, max_depth=8, min_child_weight=14, n_estimators=100, n_jobs=1, subsample=0.8, verbosity=0)\n",
      "==============================\n",
      "Score of the best classifier 0.5842857592645068\n"
     ]
    }
   ],
   "source": [
    "#SOLVING THE PROBLEM WITH GENETIC ALGORITHMS\n",
    "from tpot import TPOTClassifier\n",
    "# Assign the values outlined to the inputs\n",
    "number_generations = 6\n",
    "population_size =5\n",
    "offspring_size = 4\n",
    "scoring_function = 'accuracy'\n",
    "\n",
    "# Create the tpot classifier\n",
    "tpot_clf = TPOTClassifier(generations=number_generations, population_size=population_size,\n",
    "                          offspring_size=offspring_size, scoring=scoring_function,\n",
    "                          verbosity=2, random_state=2, cv=2)\n",
    "\n",
    "# Fit the classifier to the training data\n",
    "tpot_clf.fit(X_train.values , y_train.values.ravel())\n",
    "print(\"=\"*30)\n",
    "# Score on the test set\n",
    "print(\"Score of the best classifier\",tpot_clf.score(X_test , y_test.values.ravel()))"
   ]
  },
  {
   "cell_type": "code",
   "execution_count": 49,
   "id": "6be402a1",
   "metadata": {},
   "outputs": [],
   "source": [
    "#SOLVING THE PROBLEM WITH ARTIFICIAL NEURAL NETWORKS"
   ]
  },
  {
   "cell_type": "code",
   "execution_count": 10,
   "id": "ea59d035",
   "metadata": {},
   "outputs": [],
   "source": [
    "#Importing the libraries\n",
    "from tensorflow.keras.models import Sequential\n",
    "from tensorflow.keras.layers import Dense\n",
    "from tensorflow.keras.callbacks import EarlyStopping\n",
    "from tensorflow.keras.losses import SparseCategoricalCrossentropy"
   ]
  },
  {
   "cell_type": "code",
   "execution_count": 11,
   "id": "6ae4e883",
   "metadata": {},
   "outputs": [],
   "source": [
    "early=EarlyStopping(monitor=\"val_accuracy\", patience=10)"
   ]
  },
  {
   "cell_type": "code",
   "execution_count": 12,
   "id": "496f3218",
   "metadata": {},
   "outputs": [
    {
     "data": {
      "text/plain": [
       "array([0, 2, 1], dtype=int64)"
      ]
     },
     "execution_count": 12,
     "metadata": {},
     "output_type": "execute_result"
    }
   ],
   "source": [
    "y_bal[\"Interest_Rate\"].unique()"
   ]
  },
  {
   "cell_type": "code",
   "execution_count": 54,
   "id": "4fe7c5e7",
   "metadata": {},
   "outputs": [
    {
     "name": "stdout",
     "output_type": "stream",
     "text": [
      "Epoch 1/100\n",
      "3706/3706 [==============================] - 14s 3ms/step - loss: 0.8576 - accuracy: 0.5723 - val_loss: 0.8418 - val_accuracy: 0.5823\n",
      "Epoch 2/100\n",
      "3706/3706 [==============================] - 11s 3ms/step - loss: 0.8379 - accuracy: 0.5841 - val_loss: 0.8366 - val_accuracy: 0.5825\n",
      "Epoch 3/100\n",
      "3706/3706 [==============================] - 11s 3ms/step - loss: 0.8337 - accuracy: 0.5855 - val_loss: 0.8341 - val_accuracy: 0.5871\n",
      "Epoch 4/100\n",
      "3706/3706 [==============================] - 11s 3ms/step - loss: 0.8307 - accuracy: 0.5884 - val_loss: 0.8346 - val_accuracy: 0.5834\n",
      "Epoch 5/100\n",
      "3706/3706 [==============================] - 11s 3ms/step - loss: 0.8287 - accuracy: 0.5887 - val_loss: 0.8313 - val_accuracy: 0.5892\n",
      "Epoch 6/100\n",
      "3706/3706 [==============================] - 11s 3ms/step - loss: 0.8262 - accuracy: 0.5903 - val_loss: 0.8335 - val_accuracy: 0.5853\n",
      "Epoch 7/100\n",
      "3706/3706 [==============================] - 10s 3ms/step - loss: 0.8251 - accuracy: 0.5914 - val_loss: 0.8312 - val_accuracy: 0.5888\n",
      "Epoch 8/100\n",
      "3706/3706 [==============================] - 11s 3ms/step - loss: 0.8233 - accuracy: 0.5924 - val_loss: 0.8319 - val_accuracy: 0.5875\n",
      "Epoch 9/100\n",
      "3706/3706 [==============================] - 11s 3ms/step - loss: 0.8213 - accuracy: 0.5932 - val_loss: 0.8345 - val_accuracy: 0.5871\n",
      "Epoch 10/100\n",
      "3706/3706 [==============================] - 11s 3ms/step - loss: 0.8201 - accuracy: 0.5947 - val_loss: 0.8350 - val_accuracy: 0.5848\n",
      "Epoch 11/100\n",
      "3706/3706 [==============================] - 11s 3ms/step - loss: 0.8190 - accuracy: 0.5949 - val_loss: 0.8320 - val_accuracy: 0.5881\n",
      "Epoch 12/100\n",
      "3706/3706 [==============================] - 11s 3ms/step - loss: 0.8167 - accuracy: 0.5969 - val_loss: 0.8333 - val_accuracy: 0.5873\n",
      "Epoch 13/100\n",
      "3706/3706 [==============================] - 11s 3ms/step - loss: 0.8153 - accuracy: 0.5978 - val_loss: 0.8331 - val_accuracy: 0.5879\n",
      "Epoch 14/100\n",
      "3706/3706 [==============================] - 11s 3ms/step - loss: 0.8141 - accuracy: 0.5973 - val_loss: 0.8342 - val_accuracy: 0.5868\n",
      "Epoch 15/100\n",
      "3706/3706 [==============================] - 11s 3ms/step - loss: 0.8125 - accuracy: 0.5996 - val_loss: 0.8342 - val_accuracy: 0.5858\n"
     ]
    }
   ],
   "source": [
    "#Creating the model\n",
    "model=Sequential()\n",
    "model.add(Dense(256,activation=\"relu\",input_dim=len(X_train.columns)))\n",
    "model.add(Dense(32,activation=\"relu\"))\n",
    "model.add(Dense(3))\n",
    "model.compile(optimizer=\"adam\",metrics=\"accuracy\",loss=SparseCategoricalCrossentropy(from_logits=True))\n",
    "history=model.fit(X_train,y_train,epochs=100,batch_size=32,validation_split=0.2,callbacks=[early])"
   ]
  },
  {
   "cell_type": "code",
   "execution_count": 60,
   "id": "34b371c9",
   "metadata": {},
   "outputs": [
    {
     "data": {
      "text/plain": [
       "[0.8385705351829529, 0.5818299055099487]"
      ]
     },
     "execution_count": 60,
     "metadata": {},
     "output_type": "execute_result"
    }
   ],
   "source": [
    "#Evaluating the model\n",
    "\n",
    "model.evaluate(X_test,y_test,verbose=0)"
   ]
  },
  {
   "cell_type": "code",
   "execution_count": 58,
   "id": "d28e3c33",
   "metadata": {},
   "outputs": [],
   "source": [
    "#Saving the model\n",
    "model.save(\"model_multiclasification_keras_sparse.h5\")"
   ]
  },
  {
   "cell_type": "code",
   "execution_count": 62,
   "id": "0e5ba5d6",
   "metadata": {},
   "outputs": [
    {
     "name": "stdout",
     "output_type": "stream",
     "text": [
      "Cohen Kappa : 0.372745  \n",
      "================================================================================\n",
      "Classification Report:\n",
      "              precision    recall  f1-score   support\n",
      "\n",
      "           0       0.76      0.58      0.66     21174\n",
      "           1       0.48      0.66      0.56     21174\n",
      "           2       0.58      0.50      0.54     21174\n",
      "\n",
      "    accuracy                           0.58     63522\n",
      "   macro avg       0.61      0.58      0.59     63522\n",
      "weighted avg       0.61      0.58      0.59     63522\n",
      "\n"
     ]
    }
   ],
   "source": [
    "#Evaluating the model using cohen_kappa and classification_report\n",
    "\n",
    "from sklearn.metrics import cohen_kappa_score,classification_report\n",
    "\n",
    "y_pred=(pd.DataFrame(np.argmax(model.predict(X_test,verbose=0),axis=1)))\n",
    "\n",
    "kappa=cohen_kappa_score(y_test,y_pred)\n",
    "\n",
    "clas_rep=classification_report(y_test,y_pred)\n",
    "\n",
    "print(\"Cohen Kappa : %f  \" % (kappa))\n",
    "print(\"=\"*80)\n",
    "print(\"Classification Report:\")\n",
    "print(clas_rep)"
   ]
  },
  {
   "cell_type": "code",
   "execution_count": 63,
   "id": "55b5f7c3",
   "metadata": {},
   "outputs": [
    {
     "data": {
      "image/png": "[encoded data removed]",
      "text/plain": [
       "<Figure size 600x400 with 1 Axes>"
      ]
     },
     "metadata": {},
     "output_type": "display_data"
    }
   ],
   "source": [
    "import matplotlib.pyplot as plt\n",
    "%matplotlib inline\n",
    "plt.figure(figsize=(6,4))\n",
    "plt.plot(history.history[\"accuracy\"]);\n",
    "plt.plot(history.history[\"val_accuracy\"])\n",
    "plt.title(\"Accuracy of model with the set of training and validation\")\n",
    "plt.xlabel(\"Epochs\");\n",
    "plt.ylabel(\"Accuracy\");\n",
    "plt.legend([\"Training\",\"Validation\"],loc=\"lower right\");"
   ]
  },
  {
   "cell_type": "code",
   "execution_count": 65,
   "id": "47588ef0",
   "metadata": {},
   "outputs": [
    {
     "name": "stdout",
     "output_type": "stream",
     "text": [
      "Real = 0 , Prediction = 0 \n",
      "Real = 0 , Prediction = 2 \n",
      "Real = 1 , Prediction = 1 \n",
      "Real = 0 , Prediction = 2 \n",
      "Real = 0 , Prediction = 2 \n",
      "Real = 1 , Prediction = 2 \n",
      "Real = 2 , Prediction = 1 \n",
      "Real = 0 , Prediction = 1 \n",
      "Real = 1 , Prediction = 0 \n",
      "Real = 1 , Prediction = 2 \n",
      "Real = 2 , Prediction = 2 \n",
      "Real = 0 , Prediction = 0 \n",
      "Real = 1 , Prediction = 1 \n",
      "Real = 0 , Prediction = 0 \n",
      "Real = 0 , Prediction = 0 \n",
      "Real = 1 , Prediction = 1 \n",
      "Real = 2 , Prediction = 2 \n",
      "Real = 2 , Prediction = 2 \n",
      "Real = 1 , Prediction = 2 \n",
      "Real = 1 , Prediction = 0 \n"
     ]
    }
   ],
   "source": [
    "#Proving the results\n",
    "\n",
    "for i in range(0,20):\n",
    "    print(\"Real = {} , Prediction = {} \".format(y_test.values[i][0] , round(y_pred.values[i][0])) )"
   ]
  },
  {
   "cell_type": "code",
   "execution_count": 66,
   "id": "38fa4154",
   "metadata": {},
   "outputs": [],
   "source": [
    "#ANOTHER WAY TO CREATE THE MODEL"
   ]
  },
  {
   "cell_type": "code",
   "execution_count": 9,
   "id": "cd98ba2e",
   "metadata": {},
   "outputs": [],
   "source": [
    "#Importing the libraries\n",
    "from tensorflow.keras.models import Sequential\n",
    "from tensorflow.keras.layers import Dense\n",
    "from tensorflow.keras.callbacks import EarlyStopping\n",
    "from tensorflow.keras.utils import to_categorical"
   ]
  },
  {
   "cell_type": "code",
   "execution_count": 10,
   "id": "782ef2bf",
   "metadata": {},
   "outputs": [],
   "source": [
    "early=EarlyStopping(monitor=\"val_accuracy\", patience=10)"
   ]
  },
  {
   "cell_type": "code",
   "execution_count": 11,
   "id": "e6b672ef",
   "metadata": {},
   "outputs": [
    {
     "data": {
      "text/html": [
       "<div>\n",
       "<style scoped>\n",
       "    .dataframe tbody tr th:only-of-type {\n",
       "        vertical-align: middle;\n",
       "    }\n",
       "\n",
       "    .dataframe tbody tr th {\n",
       "        vertical-align: top;\n",
       "    }\n",
       "\n",
       "    .dataframe thead th {\n",
       "        text-align: right;\n",
       "    }\n",
       "</style>\n",
       "<table border=\"1\" class=\"dataframe\">\n",
       "  <thead>\n",
       "    <tr style=\"text-align: right;\">\n",
       "      <th></th>\n",
       "      <th>0</th>\n",
       "      <th>1</th>\n",
       "      <th>2</th>\n",
       "    </tr>\n",
       "  </thead>\n",
       "  <tbody>\n",
       "    <tr>\n",
       "      <th>0</th>\n",
       "      <td>0.000</td>\n",
       "      <td>1.000</td>\n",
       "      <td>0.000</td>\n",
       "    </tr>\n",
       "    <tr>\n",
       "      <th>1</th>\n",
       "      <td>1.000</td>\n",
       "      <td>0.000</td>\n",
       "      <td>0.000</td>\n",
       "    </tr>\n",
       "    <tr>\n",
       "      <th>2</th>\n",
       "      <td>0.000</td>\n",
       "      <td>0.000</td>\n",
       "      <td>1.000</td>\n",
       "    </tr>\n",
       "    <tr>\n",
       "      <th>3</th>\n",
       "      <td>1.000</td>\n",
       "      <td>0.000</td>\n",
       "      <td>0.000</td>\n",
       "    </tr>\n",
       "    <tr>\n",
       "      <th>4</th>\n",
       "      <td>1.000</td>\n",
       "      <td>0.000</td>\n",
       "      <td>0.000</td>\n",
       "    </tr>\n",
       "  </tbody>\n",
       "</table>\n",
       "</div>"
      ],
      "text/plain": [
       "      0     1     2\n",
       "0 0.000 1.000 0.000\n",
       "1 1.000 0.000 0.000\n",
       "2 0.000 0.000 1.000\n",
       "3 1.000 0.000 0.000\n",
       "4 1.000 0.000 0.000"
      ]
     },
     "execution_count": 11,
     "metadata": {},
     "output_type": "execute_result"
    }
   ],
   "source": [
    "y_train_alter=pd.DataFrame(to_categorical(y_train))\n",
    "y_train_alter.head()"
   ]
  },
  {
   "cell_type": "code",
   "execution_count": 12,
   "id": "a3047bbf",
   "metadata": {},
   "outputs": [
    {
     "data": {
      "text/html": [
       "<div>\n",
       "<style scoped>\n",
       "    .dataframe tbody tr th:only-of-type {\n",
       "        vertical-align: middle;\n",
       "    }\n",
       "\n",
       "    .dataframe tbody tr th {\n",
       "        vertical-align: top;\n",
       "    }\n",
       "\n",
       "    .dataframe thead th {\n",
       "        text-align: right;\n",
       "    }\n",
       "</style>\n",
       "<table border=\"1\" class=\"dataframe\">\n",
       "  <thead>\n",
       "    <tr style=\"text-align: right;\">\n",
       "      <th></th>\n",
       "      <th>0</th>\n",
       "      <th>1</th>\n",
       "      <th>2</th>\n",
       "    </tr>\n",
       "  </thead>\n",
       "  <tbody>\n",
       "    <tr>\n",
       "      <th>0</th>\n",
       "      <td>1.000</td>\n",
       "      <td>0.000</td>\n",
       "      <td>0.000</td>\n",
       "    </tr>\n",
       "    <tr>\n",
       "      <th>1</th>\n",
       "      <td>1.000</td>\n",
       "      <td>0.000</td>\n",
       "      <td>0.000</td>\n",
       "    </tr>\n",
       "    <tr>\n",
       "      <th>2</th>\n",
       "      <td>0.000</td>\n",
       "      <td>1.000</td>\n",
       "      <td>0.000</td>\n",
       "    </tr>\n",
       "    <tr>\n",
       "      <th>3</th>\n",
       "      <td>1.000</td>\n",
       "      <td>0.000</td>\n",
       "      <td>0.000</td>\n",
       "    </tr>\n",
       "    <tr>\n",
       "      <th>4</th>\n",
       "      <td>1.000</td>\n",
       "      <td>0.000</td>\n",
       "      <td>0.000</td>\n",
       "    </tr>\n",
       "  </tbody>\n",
       "</table>\n",
       "</div>"
      ],
      "text/plain": [
       "      0     1     2\n",
       "0 1.000 0.000 0.000\n",
       "1 1.000 0.000 0.000\n",
       "2 0.000 1.000 0.000\n",
       "3 1.000 0.000 0.000\n",
       "4 1.000 0.000 0.000"
      ]
     },
     "execution_count": 12,
     "metadata": {},
     "output_type": "execute_result"
    }
   ],
   "source": [
    "y_test_alter=pd.DataFrame(to_categorical(y_test))\n",
    "y_test_alter.head()"
   ]
  },
  {
   "cell_type": "code",
   "execution_count": 70,
   "id": "72391e3b",
   "metadata": {},
   "outputs": [
    {
     "name": "stdout",
     "output_type": "stream",
     "text": [
      "Epoch 1/100\n",
      "3706/3706 [==============================] - 14s 3ms/step - loss: 0.8573 - accuracy: 0.5737 - val_loss: 0.8427 - val_accuracy: 0.5810\n",
      "Epoch 2/100\n",
      "3706/3706 [==============================] - 12s 3ms/step - loss: 0.8374 - accuracy: 0.5845 - val_loss: 0.8372 - val_accuracy: 0.5839\n",
      "Epoch 3/100\n",
      "3706/3706 [==============================] - 12s 3ms/step - loss: 0.8337 - accuracy: 0.5854 - val_loss: 0.8416 - val_accuracy: 0.5815\n",
      "Epoch 4/100\n",
      "3706/3706 [==============================] - 13s 3ms/step - loss: 0.8307 - accuracy: 0.5880 - val_loss: 0.8367 - val_accuracy: 0.5840\n",
      "Epoch 5/100\n",
      "3706/3706 [==============================] - 15s 4ms/step - loss: 0.8284 - accuracy: 0.5896 - val_loss: 0.8342 - val_accuracy: 0.5864\n",
      "Epoch 6/100\n",
      "3706/3706 [==============================] - 12s 3ms/step - loss: 0.8266 - accuracy: 0.5895 - val_loss: 0.8329 - val_accuracy: 0.5862\n",
      "Epoch 7/100\n",
      "3706/3706 [==============================] - 12s 3ms/step - loss: 0.8248 - accuracy: 0.5911 - val_loss: 0.8355 - val_accuracy: 0.5860\n",
      "Epoch 8/100\n",
      "3706/3706 [==============================] - 10s 3ms/step - loss: 0.8231 - accuracy: 0.5931 - val_loss: 0.8314 - val_accuracy: 0.5872\n",
      "Epoch 9/100\n",
      "3706/3706 [==============================] - 10s 3ms/step - loss: 0.8214 - accuracy: 0.5925 - val_loss: 0.8324 - val_accuracy: 0.5861\n",
      "Epoch 10/100\n",
      "3706/3706 [==============================] - 13s 4ms/step - loss: 0.8201 - accuracy: 0.5933 - val_loss: 0.8337 - val_accuracy: 0.5843\n",
      "Epoch 11/100\n",
      "3706/3706 [==============================] - 12s 3ms/step - loss: 0.8186 - accuracy: 0.5939 - val_loss: 0.8327 - val_accuracy: 0.5863\n",
      "Epoch 12/100\n",
      "3706/3706 [==============================] - 11s 3ms/step - loss: 0.8172 - accuracy: 0.5962 - val_loss: 0.8353 - val_accuracy: 0.5853\n",
      "Epoch 13/100\n",
      "3706/3706 [==============================] - 11s 3ms/step - loss: 0.8160 - accuracy: 0.5966 - val_loss: 0.8353 - val_accuracy: 0.5858\n",
      "Epoch 14/100\n",
      "3706/3706 [==============================] - 10s 3ms/step - loss: 0.8140 - accuracy: 0.5984 - val_loss: 0.8381 - val_accuracy: 0.5844\n",
      "Epoch 15/100\n",
      "3706/3706 [==============================] - 10s 3ms/step - loss: 0.8128 - accuracy: 0.5981 - val_loss: 0.8335 - val_accuracy: 0.5856\n",
      "Epoch 16/100\n",
      "3706/3706 [==============================] - 11s 3ms/step - loss: 0.8124 - accuracy: 0.5991 - val_loss: 0.8373 - val_accuracy: 0.5853\n",
      "Epoch 17/100\n",
      "3706/3706 [==============================] - 11s 3ms/step - loss: 0.8098 - accuracy: 0.6018 - val_loss: 0.8368 - val_accuracy: 0.5822\n",
      "Epoch 18/100\n",
      "3706/3706 [==============================] - 11s 3ms/step - loss: 0.8087 - accuracy: 0.6015 - val_loss: 0.8387 - val_accuracy: 0.5812\n"
     ]
    }
   ],
   "source": [
    "#Creating the model\n",
    "model2=Sequential()\n",
    "model2.add(Dense(256,activation=\"relu\",input_dim=len(X_train.columns)))\n",
    "model2.add(Dense(32,activation=\"relu\"))\n",
    "model2.add(Dense(3,activation=\"softmax\"))\n",
    "model2.compile(optimizer=\"adam\",metrics=\"accuracy\",loss=\"categorical_crossentropy\")\n",
    "history2=model2.fit(X_train,y_train_alter,epochs=100,batch_size=32,validation_split=0.2,callbacks=[early])"
   ]
  },
  {
   "cell_type": "code",
   "execution_count": 71,
   "id": "476872b1",
   "metadata": {},
   "outputs": [
    {
     "data": {
      "text/plain": [
       "[0.8445377945899963, 0.5779100060462952]"
      ]
     },
     "execution_count": 71,
     "metadata": {},
     "output_type": "execute_result"
    }
   ],
   "source": [
    "#Evaluating the model\n",
    "\n",
    "model2.evaluate(X_test,y_test_alter,verbose=0)"
   ]
  },
  {
   "cell_type": "code",
   "execution_count": 72,
   "id": "926fca4c",
   "metadata": {},
   "outputs": [
    {
     "name": "stdout",
     "output_type": "stream",
     "text": [
      "Cohen Kappa : 0.366865  \n",
      "================================================================================\n",
      "Classification Report:\n",
      "              precision    recall  f1-score   support\n",
      "\n",
      "           0       0.73      0.60      0.66     21174\n",
      "           1       0.49      0.52      0.51     21174\n",
      "           2       0.55      0.61      0.58     21174\n",
      "\n",
      "    accuracy                           0.58     63522\n",
      "   macro avg       0.59      0.58      0.58     63522\n",
      "weighted avg       0.59      0.58      0.58     63522\n",
      "\n"
     ]
    }
   ],
   "source": [
    "#Evaluating the model using cohen_kappa and classification_report\n",
    "\n",
    "from sklearn.metrics import cohen_kappa_score,classification_report\n",
    "\n",
    "y_pred=pd.DataFrame(np.argmax(model2.predict(X_test,verbose=0),axis=1))\n",
    "\n",
    "y_test_alter2=pd.DataFrame(np.argmax((y_test_alter.values),axis=1))\n",
    "\n",
    "kappa=cohen_kappa_score(y_test_alter2,y_pred)\n",
    "\n",
    "clas_rep=classification_report(y_test_alter2,y_pred)\n",
    "\n",
    "print(\"Cohen Kappa : %f  \" % (kappa))\n",
    "print(\"=\"*80)\n",
    "print(\"Classification Report:\")\n",
    "print(clas_rep)"
   ]
  },
  {
   "cell_type": "code",
   "execution_count": 73,
   "id": "75a65039",
   "metadata": {},
   "outputs": [
    {
     "data": {
      "image/png": "[encoded data removed]",
      "text/plain": [
       "<Figure size 600x400 with 1 Axes>"
      ]
     },
     "metadata": {},
     "output_type": "display_data"
    }
   ],
   "source": [
    "import matplotlib.pyplot as plt\n",
    "%matplotlib inline\n",
    "plt.figure(figsize=(6,4))\n",
    "plt.plot(history2.history[\"accuracy\"]);\n",
    "plt.plot(history2.history[\"val_accuracy\"])\n",
    "plt.title(\"Accuracy of model with the set of training and validation\")\n",
    "plt.xlabel(\"Epochs\");\n",
    "plt.ylabel(\"Accuracy\");\n",
    "plt.legend([\"Training\",\"Validation\"],loc=\"lower right\");"
   ]
  },
  {
   "cell_type": "code",
   "execution_count": 74,
   "id": "e2d9f8b7",
   "metadata": {},
   "outputs": [
    {
     "name": "stdout",
     "output_type": "stream",
     "text": [
      "Real = 0 , Prediction = 0 \n",
      "Real = 0 , Prediction = 2 \n",
      "Real = 1 , Prediction = 1 \n",
      "Real = 0 , Prediction = 2 \n",
      "Real = 0 , Prediction = 2 \n",
      "Real = 1 , Prediction = 2 \n",
      "Real = 2 , Prediction = 1 \n",
      "Real = 0 , Prediction = 1 \n",
      "Real = 1 , Prediction = 0 \n",
      "Real = 1 , Prediction = 2 \n",
      "Real = 2 , Prediction = 2 \n",
      "Real = 0 , Prediction = 0 \n",
      "Real = 1 , Prediction = 2 \n",
      "Real = 0 , Prediction = 0 \n",
      "Real = 0 , Prediction = 0 \n",
      "Real = 1 , Prediction = 1 \n",
      "Real = 2 , Prediction = 2 \n",
      "Real = 2 , Prediction = 2 \n",
      "Real = 1 , Prediction = 2 \n",
      "Real = 1 , Prediction = 0 \n"
     ]
    }
   ],
   "source": [
    "#Proving the results\n",
    "\n",
    "for i in range(0,20):\n",
    "    print(\"Real = {} , Prediction = {} \".format(y_test_alter2.values[i][0] , round(y_pred.values[i][0])) )"
   ]
  },
  {
   "cell_type": "code",
   "execution_count": 75,
   "id": "1982a24b",
   "metadata": {},
   "outputs": [],
   "source": [
    "#Saving the model\n",
    "model2.save(\"model_multiclasification_keras_softmax.h5\")"
   ]
  },
  {
   "cell_type": "code",
   "execution_count": 23,
   "id": "c85c7fae",
   "metadata": {},
   "outputs": [
    {
     "name": "stdout",
     "output_type": "stream",
     "text": [
      "Mean_test_accuracy 0.5838359355926513\n"
     ]
    }
   ],
   "source": [
    "##Using CV Score\n",
    "from tensorflow.keras.wrappers.scikit_learn import KerasClassifier\n",
    "from sklearn.model_selection import cross_val_score\n",
    "import warnings\n",
    "warnings.filterwarnings(\"ignore\", category=DeprecationWarning)\n",
    "\n",
    "def model_function():\n",
    "    model=Sequential()\n",
    "    model.add(Dense(256,activation=\"relu\",input_dim=X_train.shape[1]))\n",
    "    model.add(Dense(32,activation=\"relu\"))\n",
    "    model.add(Dense(3,activation=\"softmax\"))\n",
    "    model.compile(optimizer=\"adam\",metrics=\"accuracy\",loss=\"categorical_crossentropy\")\n",
    "    return model\n",
    "\n",
    "modelo=KerasClassifier(build_fn=model_function,epochs=20,batch_size=32,verbose=0)\n",
    "\n",
    "\n",
    "cv=cross_val_score(modelo,X_train,y_train_alter,cv=5)\n",
    "\n",
    "print(\"Mean_test_accuracy\",cv.mean())"
   ]
  },
  {
   "cell_type": "code",
   "execution_count": 24,
   "id": "24676773",
   "metadata": {},
   "outputs": [
    {
     "name": "stdout",
     "output_type": "stream",
     "text": [
      "Best Score 0.585111121336619\n",
      "==============================\n",
      "Best Parameters {'optimizer': 'sgd', 'epochs': 10, 'batch_size': 16, 'activation': 'sigmoid'}\n"
     ]
    }
   ],
   "source": [
    "##Tuning hyperparameters\n",
    "\n",
    "from tensorflow.keras.wrappers.scikit_learn import KerasClassifier\n",
    "from sklearn.model_selection import cross_val_score,RandomizedSearchCV\n",
    "warnings.filterwarnings(\"ignore\", category=DeprecationWarning)\n",
    "\n",
    "def model_function(optimizer=\"adam\",activation=\"relu\"):\n",
    "    model=Sequential()\n",
    "    model.add(Dense(256,activation=\"relu\",input_dim=X_train.shape[1]))\n",
    "    model.add(Dense(32,activation=\"relu\"))\n",
    "    model.add(Dense(3,activation=\"softmax\"))\n",
    "    model.compile(optimizer=\"adam\",metrics=\"accuracy\",loss=\"categorical_crossentropy\")\n",
    "    return model\n",
    "\n",
    "modelo=KerasClassifier(build_fn=model_function,epochs=3,batch_size=16,verbose=0)\n",
    "\n",
    "parameters={\n",
    "    \"optimizer\":[\"adam\",\"sgd\",\"rmsprop\"],\n",
    "    \"activation\":[\"relu\",\"sigmoid\"],\n",
    "    \"epochs\":[10,20,40],\n",
    "    \"batch_size\":[16,32,64]\n",
    "}\n",
    "\n",
    "random=RandomizedSearchCV(modelo, param_distributions=parameters,cv=3 , n_iter=15)\n",
    "\n",
    "results=random.fit(X_train,y_train_alter)\n",
    "\n",
    "print(\"Best Score\", results.best_score_)\n",
    "print(\"=\"*30)\n",
    "print(\"Best Parameters\" , results.best_params_)"
   ]
  },
  {
   "cell_type": "code",
   "execution_count": 13,
   "id": "81e51852",
   "metadata": {},
   "outputs": [
    {
     "name": "stdout",
     "output_type": "stream",
     "text": [
      "Best Score 0.5749099453290304\n",
      "==============================\n",
      "Best Parameters {'nn': 64, 'dense_layers_extra': 1}\n"
     ]
    }
   ],
   "source": [
    "##Tuning layers and neurons\n",
    "\n",
    "from tensorflow.keras.wrappers.scikit_learn import KerasClassifier\n",
    "from sklearn.model_selection import cross_val_score,RandomizedSearchCV\n",
    "import warnings\n",
    "warnings.filterwarnings(\"ignore\", category=DeprecationWarning)\n",
    "\n",
    "def model_function_2(dense_layers_extra=2,nn=100):\n",
    "    model=Sequential()\n",
    "    model.add(Dense(units=nn,activation=\"sigmoid\",input_dim=X_train.shape[1]))\n",
    "    \n",
    "    for i in range(1,dense_layers_extra+1):\n",
    "        model.add(Dense(units=nn, activation=\"sigmoid\"))\n",
    "        \n",
    "    model.add(Dense(3,activation=\"softmax\"))\n",
    "    \n",
    "    model.compile(optimizer=\"sgd\",loss=\"categorical_crossentropy\",metrics=\"accuracy\")\n",
    "    \n",
    "    return model\n",
    "\n",
    "modelo=KerasClassifier(build_fn=model_function_2,epochs=3,batch_size=16,verbose=0)\n",
    "\n",
    "parameters={\n",
    "    \"dense_layers_extra\":[1,2,3,4],\n",
    "    \n",
    "    \"nn\":[32,64,128,256]\n",
    "}\n",
    "\n",
    "random=RandomizedSearchCV(modelo,param_distributions=parameters,cv=3)\n",
    "\n",
    "results=random.fit(X_train,y_train_alter)\n",
    "\n",
    "print(\"Best Score\", results.best_score_)\n",
    "print(\"=\"*30)\n",
    "print(\"Best Parameters\" , results.best_params_)"
   ]
  },
  {
   "cell_type": "code",
   "execution_count": 14,
   "id": "5f299dc8",
   "metadata": {},
   "outputs": [
    {
     "name": "stdout",
     "output_type": "stream",
     "text": [
      "Epoch 1/10\n",
      "7411/7411 [==============================] - 22s 3ms/step - loss: 0.8715 - accuracy: 0.5675 - val_loss: 0.8510 - val_accuracy: 0.5791\n",
      "Epoch 2/10\n",
      "7411/7411 [==============================] - 21s 3ms/step - loss: 0.8424 - accuracy: 0.5817 - val_loss: 0.8458 - val_accuracy: 0.5808\n",
      "Epoch 3/10\n",
      "7411/7411 [==============================] - 20s 3ms/step - loss: 0.8366 - accuracy: 0.5852 - val_loss: 0.8423 - val_accuracy: 0.5836\n",
      "Epoch 4/10\n",
      "7411/7411 [==============================] - 20s 3ms/step - loss: 0.8326 - accuracy: 0.5871 - val_loss: 0.8418 - val_accuracy: 0.5813\n",
      "Epoch 5/10\n",
      "7411/7411 [==============================] - 21s 3ms/step - loss: 0.8305 - accuracy: 0.5883 - val_loss: 0.8403 - val_accuracy: 0.5818\n",
      "Epoch 6/10\n",
      "7411/7411 [==============================] - 20s 3ms/step - loss: 0.8287 - accuracy: 0.5894 - val_loss: 0.8416 - val_accuracy: 0.5797\n",
      "Epoch 7/10\n",
      "7411/7411 [==============================] - 22s 3ms/step - loss: 0.8268 - accuracy: 0.5915 - val_loss: 0.8394 - val_accuracy: 0.5820\n",
      "Epoch 8/10\n",
      "7411/7411 [==============================] - 21s 3ms/step - loss: 0.8257 - accuracy: 0.5918 - val_loss: 0.8399 - val_accuracy: 0.5794\n",
      "Epoch 9/10\n",
      "7411/7411 [==============================] - 23s 3ms/step - loss: 0.8245 - accuracy: 0.5932 - val_loss: 0.8406 - val_accuracy: 0.5800\n",
      "Epoch 10/10\n",
      "7411/7411 [==============================] - 22s 3ms/step - loss: 0.8231 - accuracy: 0.5935 - val_loss: 0.8414 - val_accuracy: 0.5835\n"
     ]
    }
   ],
   "source": [
    "#Creating the model with the best parameters\n",
    "model=Sequential()\n",
    "model.add(Dense(256,activation=\"relu\",input_dim=X_train.shape[1]))\n",
    "model.add(Dense(32,activation=\"relu\"))\n",
    "model.add(Dense(3,activation=\"softmax\"))\n",
    "model.compile(optimizer=\"sgd\",metrics=\"accuracy\",loss=\"categorical_crossentropy\")\n",
    "history=model.fit(X_train,y_train_alter,epochs=10,batch_size=16,validation_split=0.2)"
   ]
  },
  {
   "cell_type": "code",
   "execution_count": 16,
   "id": "9ec7b847",
   "metadata": {},
   "outputs": [
    {
     "data": {
      "text/plain": [
       "[0.8424614667892456, 0.57860267162323]"
      ]
     },
     "execution_count": 16,
     "metadata": {},
     "output_type": "execute_result"
    }
   ],
   "source": [
    "#Evaluating the best model\n",
    "model.evaluate(X_test,y_test_alter,verbose=0)"
   ]
  },
  {
   "cell_type": "code",
   "execution_count": 22,
   "id": "3a4889f5",
   "metadata": {},
   "outputs": [
    {
     "name": "stdout",
     "output_type": "stream",
     "text": [
      "Classification Report:\n",
      "              precision    recall  f1-score   support\n",
      "\n",
      "           0       0.82      0.52      0.63     21174\n",
      "           1       0.50      0.47      0.48     21174\n",
      "           2       0.64      0.35      0.46     21174\n",
      "\n",
      "   micro avg       0.63      0.45      0.52     63522\n",
      "   macro avg       0.65      0.45      0.52     63522\n",
      "weighted avg       0.65      0.45      0.52     63522\n",
      " samples avg       0.74      0.45      0.45     63522\n",
      "\n"
     ]
    }
   ],
   "source": [
    "#Evaluating the model using classification_report\n",
    "\n",
    "from sklearn.metrics import classification_report\n",
    "\n",
    "y_pred=model.predict(X_test,verbose=0).round()\n",
    "\n",
    "clas_rep=classification_report(y_test_alter,y_pred,zero_division=True)\n",
    "\n",
    "print(\"Classification Report:\")\n",
    "\n",
    "print(clas_rep)"
   ]
  }
 ],
 "metadata": {
  "kernelspec": {
   "display_name": "Python 3 (ipykernel)",
   "language": "python",
   "name": "python3"
  },
  "language_info": {
   "codemirror_mode": {
    "name": "ipython",
    "version": 3
   },
   "file_extension": ".py",
   "mimetype": "text/x-python",
   "name": "python",
   "nbconvert_exporter": "python",
   "pygments_lexer": "ipython3",
   "version": "3.9.13"
  }
 },
 "nbformat": 4,
 "nbformat_minor": 5
}
